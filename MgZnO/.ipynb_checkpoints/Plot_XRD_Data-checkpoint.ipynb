{
 "cells": [
  {
   "cell_type": "code",
   "execution_count": 13,
   "metadata": {},
   "outputs": [
    {
     "name": "stdout",
     "output_type": "stream",
     "text": [
      "Please enter the file path and file name of the XRD data/symphony/MgZnO/H1092_2Theta-Omega 30 95 0-Copy1.06 3.5 63min_1.csv\n"
     ]
    },
    {
     "ename": "FileNotFoundError",
     "evalue": "[Errno 2] No such file or directory: '/symphony/MgZnO/H1092_2Theta-Omega 30 95 0-Copy1.06 3.5 63min_1.csv'",
     "output_type": "error",
     "traceback": [
      "\u001b[0;31m---------------------------------------------------------------------------\u001b[0m",
      "\u001b[0;31mFileNotFoundError\u001b[0m                         Traceback (most recent call last)",
      "\u001b[0;32m<ipython-input-13-8cffa6f17012>\u001b[0m in \u001b[0;36m<module>\u001b[0;34m\u001b[0m\n\u001b[1;32m      8\u001b[0m \u001b[0mFilePath\u001b[0m \u001b[0;34m=\u001b[0m \u001b[0minput\u001b[0m\u001b[0;34m(\u001b[0m\u001b[0;34m'Please enter the file path and file name of the XRD data'\u001b[0m\u001b[0;34m)\u001b[0m\u001b[0;34m\u001b[0m\u001b[0;34m\u001b[0m\u001b[0m\n\u001b[1;32m      9\u001b[0m \u001b[0;34m\u001b[0m\u001b[0m\n\u001b[0;32m---> 10\u001b[0;31m \u001b[0mf\u001b[0m \u001b[0;34m=\u001b[0m \u001b[0mopen\u001b[0m\u001b[0;34m(\u001b[0m\u001b[0mos\u001b[0m\u001b[0;34m.\u001b[0m\u001b[0mpath\u001b[0m\u001b[0;34m.\u001b[0m\u001b[0mjoin\u001b[0m\u001b[0;34m(\u001b[0m\u001b[0mFilePath\u001b[0m\u001b[0;34m)\u001b[0m\u001b[0;34m)\u001b[0m\u001b[0;34m\u001b[0m\u001b[0;34m\u001b[0m\u001b[0m\n\u001b[0m\u001b[1;32m     11\u001b[0m \u001b[0;34m\u001b[0m\u001b[0m\n\u001b[1;32m     12\u001b[0m \u001b[0;31m# identify how many lines of header (known lines of comment)\u001b[0m\u001b[0;34m\u001b[0m\u001b[0;34m\u001b[0m\u001b[0;34m\u001b[0m\u001b[0m\n",
      "\u001b[0;31mFileNotFoundError\u001b[0m: [Errno 2] No such file or directory: '/symphony/MgZnO/H1092_2Theta-Omega 30 95 0-Copy1.06 3.5 63min_1.csv'"
     ]
    }
   ],
   "source": [
    "# Takes a .csv exported from XRD data file and plots the peaks\n",
    "import numpy as np\n",
    "import matplotlib.pyplot as plt\n",
    "import os \n",
    "\n",
    "#rootdir = '/home/jupyter/.local/share/jupyter'\n",
    "\n",
    "FilePath = input('Please enter the file path and file name of the XRD data')\n",
    "\n",
    "f = open(FilePath)\n",
    "\n",
    "# identify how many lines of header (known lines of comment)\n",
    "Start = False\n",
    "header = 0\n",
    "while Start == False:\n",
    "    line = f.readline()\n",
    "    header += 1\n",
    "    if 'Angle,Intensity' in line:\n",
    "        Start = True\n",
    "        \n",
    "Angle, Intensity = np.genfromtxt(FilePath, delimiter=\",\", unpack = True, skip_header=header)\n",
    "plt.plot(Angle, Intensity)\n",
    "plt.title(FilePath)\n",
    "plt.xlabel('Angle (degrees)')\n",
    "plt.ylabel('Intensity')\n",
    "plt.show()"
   ]
  },
  {
   "cell_type": "code",
   "execution_count": null,
   "metadata": {},
   "outputs": [],
   "source": []
  }
 ],
 "metadata": {
  "kernelspec": {
   "display_name": "Python 3",
   "language": "python",
   "name": "python3"
  },
  "language_info": {
   "codemirror_mode": {
    "name": "ipython",
    "version": 3
   },
   "file_extension": ".py",
   "mimetype": "text/x-python",
   "name": "python",
   "nbconvert_exporter": "python",
   "pygments_lexer": "ipython3",
   "version": "3.7.6"
  }
 },
 "nbformat": 4,
 "nbformat_minor": 4
}
