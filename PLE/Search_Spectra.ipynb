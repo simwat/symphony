{
 "cells": [
  {
   "cell_type": "code",
   "execution_count": 102,
   "metadata": {},
   "outputs": [
    {
     "name": "stdout",
     "output_type": "stream",
     "text": [
      "H1101e\n",
      "H1101e\n",
      "C:/Users/hyh9/Documents/Python Scripts\\Test2.ipynb\n",
      "    \"Start = 401\\n\",\n",
      "\n",
      "C:/Users/hyh9/Documents/Python Scripts\\.ipynb_checkpoints\\Test2-checkpoint.ipynb\n",
      "    \"Start = 401\\n\",\n",
      "\n"
     ]
    }
   ],
   "source": [
    "# This program searches up data files containing specific sample names, within a local directory\n",
    "\n",
    "import os\n",
    "rootdir = 'C:/Users/hyh9/Documents/Python Scripts'\n",
    "\n",
    "# input \n",
    "input1 = input() \n",
    "  \n",
    "# output \n",
    "print(input1) \n",
    "\n",
    "\n",
    "for subdir, dirs, files in os.walk(rootdir): # for every folder and file in the root directory\n",
    "    for file in files: # for every file\n",
    "        f = open(os.path.join(subdir, file)) # open the file\n",
    "        file_contents = f.read() #\n",
    "        if input1 in file_contents:\n",
    "            print(os.path.join(subdir, file))\n",
    "            with open(os.path.join(subdir, file)) as openfile:\n",
    "                for line in openfile:\n",
    "                    for part in line.split():\n",
    "                        if 'Start' in part:\n",
    "                            print(line[0::])"
   ]
  },
  {
   "cell_type": "code",
   "execution_count": null,
   "metadata": {},
   "outputs": [],
   "source": []
  },
  {
   "cell_type": "code",
   "execution_count": null,
   "metadata": {},
   "outputs": [],
   "source": []
  }
 ],
 "metadata": {
  "kernelspec": {
   "display_name": "Python 3",
   "language": "python",
   "name": "python3"
  },
  "language_info": {
   "codemirror_mode": {
    "name": "ipython",
    "version": 3
   },
   "file_extension": ".py",
   "mimetype": "text/x-python",
   "name": "python",
   "nbconvert_exporter": "python",
   "pygments_lexer": "ipython3",
   "version": "3.7.6"
  }
 },
 "nbformat": 4,
 "nbformat_minor": 4
}
