{
 "cells": [
  {
   "cell_type": "code",
   "execution_count": null,
   "metadata": {},
   "outputs": [],
   "source": [
    "import numpy as np\n",
    "import matplotlib.pyplot as plt\n",
    "import pandas as pd\n",
    "import plotly.express as px\n",
    "import plotly.graph_objects as go\n",
    "\n",
    "FileNames = [0]*108\n",
    "for i in range(len(FileNames)):\n",
    "    string = 'Default (%.0f)' %(i+1)\n",
    "    FileNames[i] = [string]\n",
    "    print(FileNames[i])\n",
    "\n",
    "fig = go.Figure()\n",
    "\n",
    "for j in range(len(FileNames)):\n",
    "\n",
    "    df = pd.read_csv(FileNames[j][0])\n",
    "    dataWheader = np.array(df)\n",
    "\n",
    "    data = dataWheader[2::]\n",
    "    Wavelength = [0]*len(data) \n",
    "    Count = [0]*len(data)\n",
    "    MaxLoc = [0]*len(data)\n",
    "    for i in range(len(data)):\n",
    "        step_0 = str(data[i]).split('\\\\t')\n",
    "        Wavelength[i] = float(step_0[0][2::])\n",
    "        Count[i] = float(step_0[1][0:-2])\n",
    "    \n",
    "     # Add traces\n",
    "    fig.add_trace(go.Scatter(x=Wavelength, y=Count,\n",
    "                    mode='lines',\n",
    "                    name='%.0f' %j))\n",
    "\n",
    "#plt.legend()\n",
    "#plt.xlim(364.85, 365.025)\n",
    "#lgd = ax.legend(bbox_to_anchor=(1.1, 0.1))\n",
    "#text = ax.text(-0.2,1.05, \"Default25to35\", transform=ax.transAxes) # CHANGE K_RANGE\n",
    "#go.savefig('June18_recalibration2_cursor.png', bbox_extra_artists=(lgd, text), bbox_inches='tight')\n",
    "\n",
    "fig['layout']['xaxis'].update(title='', range=[364.5, 365.7], dtick=0.01, autorange=False)\n",
    "fig.show()\n",
    "  "
   ]
  }
 ],
 "metadata": {
  "kernelspec": {
   "display_name": "Python 3",
   "language": "python",
   "name": "python3"
  },
  "language_info": {
   "codemirror_mode": {
    "name": "ipython",
    "version": 3
   },
   "file_extension": ".py",
   "mimetype": "text/x-python",
   "name": "python",
   "nbconvert_exporter": "python",
   "pygments_lexer": "ipython3",
   "version": "3.7.6"
  }
 },
 "nbformat": 4,
 "nbformat_minor": 4
}
