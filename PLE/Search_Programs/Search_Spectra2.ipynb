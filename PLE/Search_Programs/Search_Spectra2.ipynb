{
 "cells": [
  {
   "cell_type": "code",
   "execution_count": 10,
   "metadata": {},
   "outputs": [
    {
     "name": "stdout",
     "output_type": "stream",
     "text": [
      "Please enter what you are looking for: H1090\n",
      "H1090\n",
      "\n",
      "******************\n",
      "Finished Search :)\n"
     ]
    }
   ],
   "source": [
    "# This program searches up data files containing specific sample names, within a local directory\n",
    "\n",
    "import os\n",
    "rootdir = 'c:/Users/Pat/Documents/PL-folder/Data' # pls change to your own directory\n",
    "\n",
    "# input \n",
    "input1 = input('Please enter what you are looking for: ') \n",
    "  \n",
    "# output \n",
    "print(input1) \n",
    "\n",
    "\n",
    "for subdir, dirs, files in os.walk(rootdir): # for every folder and file in the root directory\n",
    "    for file in files: # for every file\n",
    "        f = open(os.path.join(subdir, file)) # open the file\n",
    "        try: # the program will run this section unless there is an error\n",
    "            line = f.readline() # reads first line of the data file (the header)\n",
    "            if input1 in line or input1 in os.path.join(subdir, file): # checks if keyword is in the first line or filename\n",
    "                if '.pxp' in os.path.join(subdir, file):\n",
    "                    print(os.path.join(subdir, file)) # prints only path of selected file for Igor files\n",
    "                    print('')\n",
    "                else:\n",
    "                    print(os.path.join(subdir, file)) # prints path of selected file\n",
    "                    print(line) # prints first line of header\n",
    "                    print(f.readline()) # prints the next line of the header\n",
    "                    \n",
    "        except UnicodeDecodeError: # if there is an error about reading the file, do this\n",
    "            #print('Error File', os.path.join(subdir, file))\n",
    "            continue # go on to the next iteration\n",
    "            \n",
    "print('')\n",
    "print('******************')\n",
    "print('Finished Search :)')\n",
    "        "
   ]
  },
  {
   "cell_type": "code",
   "execution_count": null,
   "metadata": {},
   "outputs": [],
   "source": []
  },
  {
   "cell_type": "code",
   "execution_count": null,
   "metadata": {},
   "outputs": [],
   "source": []
  }
 ],
 "metadata": {
  "kernelspec": {
   "display_name": "Python 3",
   "language": "python",
   "name": "python3"
  },
  "language_info": {
   "codemirror_mode": {
    "name": "ipython",
    "version": 3
   },
   "file_extension": ".py",
   "mimetype": "text/x-python",
   "name": "python",
   "nbconvert_exporter": "python",
   "pygments_lexer": "ipython3",
   "version": "3.7.6"
  }
 },
 "nbformat": 4,
 "nbformat_minor": 4
}
