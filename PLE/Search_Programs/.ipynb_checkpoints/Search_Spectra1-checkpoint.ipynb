{
 "cells": [
  {
   "cell_type": "code",
   "execution_count": 10,
   "metadata": {},
   "outputs": [
    {
     "name": "stdout",
     "output_type": "stream",
     "text": [
      "Please enter what you are looking forum\n",
      "um\n",
      "/home/jupyter/symphony/Syzygy_To_Github_Instructions\n",
      "Documentation of 1) pushing, 2) branching and 3) cloning using syzygy and github \n",
      "\n",
      "\n",
      "\n",
      "/home/jupyter/symphony/PLE/June26/2020062601 (3)\n",
      "Sample ID:\t\tH1101b 20um slit Chris\n",
      "\n",
      "Start Time:\t\tFri Jun 26 2020 2:38:57 PM\n",
      "\n",
      "/home/jupyter/symphony/PLE/June26/2020062601 (4)\n",
      "Sample ID:\t\tH1101b 20um slit Chris\n",
      "\n",
      "Start Time:\t\tFri Jun 26 2020 2:56:51 PM\n",
      "\n",
      "/home/jupyter/symphony/PLE/June26/2020062601\n",
      "Sample ID:\t\tH1101b 20um slit Chris\n",
      "\n",
      "Start Time:\t\tFri Jun 26 2020 12:04:15 PM\n",
      "\n",
      "/home/jupyter/symphony/PLE/June26/2020062601 (2)\n",
      "Sample ID:\t\tH1101b 20um slit Chris\n",
      "\n",
      "Start Time:\t\tFri Jun 26 2020 2:28:11 PM\n",
      "\n",
      "/home/jupyter/symphony/PLE/June26/2020062601 (5)\n",
      "Sample ID:\t\tH1101b 20um slit Chris\n",
      "\n",
      "Start Time:\t\tFri Jun 26 2020 3:39:11 PM\n",
      "\n",
      "/home/jupyter/symphony/PLE/June26/2020062601 (6)\n",
      "Sample ID:\t\tH1101b 20um slit Chris\n",
      "\n",
      "Start Time:\t\tFri Jun 26 2020 4:10:59 PM\n",
      "\n",
      "/home/jupyter/symphony/PLE/June26/2020062601 (1)\n",
      "Sample ID:\t\tH1101b 20um slit Chris\n",
      "\n",
      "Start Time:\t\tFri Jun 26 2020 1:31:26 PM\n",
      "\n",
      "/home/jupyter/symphony/UpToJune25LaptopFiles/Readings/SolvingSphericalSchrodinger - Jupyter Notebook_files/logo\n"
     ]
    }
   ],
   "source": [
    "# This program searches up data files containing specific sample names, within a local directory\n",
    "\n",
    "import os\n",
    "rootdir = '/home/jupyter/symphony' # pls change to your own directory\n",
    "\n",
    "# input \n",
    "input1 = input('Please enter what you are looking for') \n",
    "  \n",
    "# output \n",
    "print(input1) \n",
    "\n",
    "\n",
    "for subdir, dirs, files in os.walk(rootdir): # for every folder and file in the root directory\n",
    "    for file in files: # for every file\n",
    "        if '.' not in os.path.join(subdir, file): # if the file name doesn't have an extension\n",
    "            f = open(os.path.join(subdir, file)) # open the file\n",
    "            try:\n",
    "                line = f.readline() # reads first line of the data file (the header)\n",
    "                if input1 in line or input1 in os.path.join(subdir, file): # checks if keyword is in the first line or filename\n",
    "                    print(os.path.join(subdir, file)) # prints path of selected file\n",
    "                    print(line) # prints first line of header\n",
    "                    print(f.readline()) # prints the next line of the header\n",
    "            except UnicodeDecodeError:\n",
    "                print(os.path.join(subdir, file))\n",
    "                pass\n",
    "                \n",
    "                "
   ]
  },
  {
   "cell_type": "code",
   "execution_count": null,
   "metadata": {},
   "outputs": [],
   "source": []
  }
 ],
 "metadata": {
  "kernelspec": {
   "display_name": "Python 3",
   "language": "python",
   "name": "python3"
  },
  "language_info": {
   "codemirror_mode": {
    "name": "ipython",
    "version": 3
   },
   "file_extension": ".py",
   "mimetype": "text/x-python",
   "name": "python",
   "nbconvert_exporter": "python",
   "pygments_lexer": "ipython3",
   "version": "3.7.6"
  }
 },
 "nbformat": 4,
 "nbformat_minor": 4
}
