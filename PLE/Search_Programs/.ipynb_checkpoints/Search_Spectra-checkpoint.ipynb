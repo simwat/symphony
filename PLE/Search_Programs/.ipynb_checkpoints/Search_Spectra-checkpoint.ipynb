{
 "cells": [
  {
   "cell_type": "code",
   "execution_count": 2,
   "metadata": {},
   "outputs": [
    {
     "name": "stdout",
     "output_type": "stream",
     "text": [
      "H900\n",
      "C:/Users/Pat/Documents\\Matt\\Data\\2019 08 30\\2019083001-H900\n",
      "Start Time:\t\tFri Aug 30 2019 1:38:56 PM\n",
      "\n",
      "C:/Users/Pat/Documents\\Matt\\Data\\2019 08 30\\2019083002-H1060\n",
      "Start Time:\t\tFri Aug 30 2019 2:24:23 PM\n",
      "\n"
     ]
    }
   ],
   "source": [
    "# This program searches up data files containing specific sample names, within a local directory\n",
    "\n",
    "import os\n",
    "#rootdir = 'C:/Users/Pat/Z:\\data\\ZnO\\PL'\n",
    "\n",
    "# input \n",
    "input1 = input()\n",
    "\n",
    "for subdir, dirs, files in os.walk(rootdir): # for every folder and file in the root directory\n",
    "    for file in files: # for every file\n",
    "        if '.' not in os.path.join(subdir, file): # skips the non-PL-data files\n",
    "            f = open(os.path.join(subdir, file)) # open the file\n",
    "            file_contents = f.read() # read into file_contents\n",
    "            if input1 in file_contents:\n",
    "                print(os.path.join(subdir, file))\n",
    "                with open(os.path.join(subdir, file)) as openfile:\n",
    "                    for line in openfile:\n",
    "                        for part in line.split():\n",
    "                            if 'Start' in part:\n",
    "                                print(line[0::])"
   ]
  },
  {
   "cell_type": "code",
   "execution_count": null,
   "metadata": {},
   "outputs": [],
   "source": []
  }
 ],
 "metadata": {
  "kernelspec": {
   "display_name": "Python 3",
   "language": "python",
   "name": "python3"
  },
  "language_info": {
   "codemirror_mode": {
    "name": "ipython",
    "version": 3
   },
   "file_extension": ".py",
   "mimetype": "text/x-python",
   "name": "python",
   "nbconvert_exporter": "python",
   "pygments_lexer": "ipython3",
   "version": "3.7.6"
  }
 },
 "nbformat": 4,
 "nbformat_minor": 4
}
