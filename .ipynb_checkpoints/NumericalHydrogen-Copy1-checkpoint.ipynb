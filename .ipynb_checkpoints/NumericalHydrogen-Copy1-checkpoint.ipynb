{
 "cells": [
  {
   "cell_type": "markdown",
   "metadata": {},
   "source": [
    "Hyrdogenic SWE for s-states\n",
    "\n",
    "$-\\frac{1}{r}\\frac{d^2}{dr^2}\\left(r\\psi\\right)=\\frac{2m}{\\hbar^2}\\left(E+\\frac{e^2}{4\\pi\\epsilon_0r}\\right)\\psi$\n",
    "\n",
    "Define: $Ry=\\frac{me^4}{8h^2\\epsilon_0^2}$\n",
    "\n",
    "and $a_0=\\frac{4\\pi\\epsilon_0\\hbar^2}{me^2}$\n",
    "\n",
    "and define $\\epsilon$ and $\\rho$  by $E=Ry \\epsilon$, and $r= a_0 \\rho$\n",
    "\n",
    "In units of $Ry$ and $a_0$\n",
    "\n",
    "SWE becomes: $\\frac{d^2}{d\\rho^2}\\left(\\rho\\psi\\right)=-\\left(\\epsilon+\\frac{2}{\\rho}\\right)\\rho\\psi$\n",
    "\n",
    "(see Feynman https://www.feynmanlectures.caltech.edu/III_19.html )\n",
    "\n",
    "\n",
    "This form of the SWE can be easily modified to include the states with $l\\ne 0$\n",
    "\n",
    "Solve lowest few eigenstates using Verlet algorithm\n",
    "\n",
    "Useful site: http://sites.science.oregonstate.edu/~roundyd/COURSES/ph365x/366.html\n",
    "\n",
    "Puls empirical potential:\n",
    "\n",
    "$V(r)=-\\frac{1}{r}\\left(1-2e^{(-2r/a_e)}\\left(1+\\frac{r}{a_e}\\right)\\right)$\n"
   ]
  },
  {
   "cell_type": "code",
   "execution_count": 89,
   "metadata": {},
   "outputs": [
    {
     "name": "stderr",
     "output_type": "stream",
     "text": [
      "/opt/conda/lib/python3.7/site-packages/ipykernel_launcher.py:33: RuntimeWarning: divide by zero encountered in true_divide\n"
     ]
    },
    {
     "data": {
      "image/png": "[encoded data removed]",
      "text/plain": [
       "<Figure size 432x288 with 1 Axes>"
      ]
     },
     "metadata": {
      "needs_background": "light"
     },
     "output_type": "display_data"
    }
   ],
   "source": [
    "import numpy as np\n",
    "import matplotlib.pyplot as plt\n",
    "\n",
    "def v(x):   #hydrogenic potential\n",
    "    return -1/x\n",
    "\n",
    "def vpuls(x):   #puls potential\n",
    "    a0=1\n",
    "    return -1/x*(1-2*np.exp(-2*x/a0)*(1+x/a0))\n",
    "\n",
    "Nmax=201\n",
    "Rmax=20  # radius in Bohr radii\n",
    "Rinc=Rmax/(Nmax-1)\n",
    "#print(Rinc)\n",
    "R=np.linspace(0,Rmax,Nmax)\n",
    "#print(R)\n",
    "U=np.empty([Nmax])    # wave function product r*R(r)\n",
    "U[Nmax-1]=0           #initial values at large r\n",
    "U[Nmax-2]=1e-10\n",
    "#print('U',type(U),len(U))\n",
    "#print('R',type(R),len(R))\n",
    "#print(R[Nmax-1])\n",
    "\n",
    "l=1\n",
    "#solve wavefunctions r*R using Verlet method\n",
    "for E in [-.155]: \n",
    "    for i in range(Nmax-1,1,-1):\n",
    "        #print(R[i],v(R[i]))\n",
    "        U[i-2]=2*U[i-1]-U[i]+Rinc**2*(-E+2*v(R[i-1]+l*(l+1)/R[i-1]**2))*U[i-1]\n",
    "        #Franchini code: u(i-1)=2*u(i)-u(i+1)+h**2*(-2*e+2*v(i)+l*(l+1)/x(i)**2)*u(i)\n",
    "    #plt.yscale('log')\n",
    "    plt.plot(R,U,label='U')\n",
    "    plt.plot(R,U/R,label='U/r')\n",
    "    plt.legend()"
   ]
  },
  {
   "cell_type": "code",
   "execution_count": null,
   "metadata": {},
   "outputs": [],
   "source": []
  },
  {
   "cell_type": "code",
   "execution_count": null,
   "metadata": {},
   "outputs": [],
   "source": []
  }
 ],
 "metadata": {
  "kernelspec": {
   "display_name": "Python 3",
   "language": "python",
   "name": "python3"
  },
  "language_info": {
   "codemirror_mode": {
    "name": "ipython",
    "version": 3
   },
   "file_extension": ".py",
   "mimetype": "text/x-python",
   "name": "python",
   "nbconvert_exporter": "python",
   "pygments_lexer": "ipython3",
   "version": "3.7.6"
  }
 },
 "nbformat": 4,
 "nbformat_minor": 4
}
