{
 "cells": [
  {
   "cell_type": "code",
   "execution_count": 2,
   "metadata": {},
   "outputs": [],
   "source": [
    "#Exercise 0.5\n",
    "#Create a function that acts in a similar way to list slicing.\n",
    "\n",
    "#The function should have signature slice_list(values, start, end, step).\n",
    "\n",
    "#Restrictions:\n",
    "\n",
    "#Use a while loop in the function\n",
    "#The index in the while loop MUST start at 0 or -1\n",
    "#Use both a continue and a break in the while loop\n",
    "\n",
    "def slice_list(values, start, end, step):\n",
    "    i = -1\n",
    "    output = []  \n",
    "    while True:\n",
    "        i += 1\n",
    "        if i < start:\n",
    "            continue\n",
    "        elif i == end:\n",
    "            break\n",
    "        elif (i - start) % step == 0:\n",
    "            output.append(values[i])\n",
    "    return output"
   ]
  },
  {
   "cell_type": "code",
   "execution_count": 6,
   "metadata": {},
   "outputs": [
    {
     "name": "stdout",
     "output_type": "stream",
     "text": [
      "[0, 1, 2, 3, 4, 5, 6, 7, 8, 9]\n",
      "[0, 1]\n",
      "[0, 2, 4, 6, 8]\n"
     ]
    }
   ],
   "source": [
    "#testing\n",
    "alist = list(range(10))\n",
    "print(alist)\n",
    "aslice1 = slice_list(alist, 0, 2, 1)\n",
    "print(aslice1)\n",
    "aslice2 = slice_list(alist, 0, 9, 2)\n",
    "print(aslice2)"
   ]
  },
  {
   "cell_type": "code",
   "execution_count": null,
   "metadata": {},
   "outputs": [],
   "source": []
  }
 ],
 "metadata": {
  "kernelspec": {
   "display_name": "Python 3",
   "language": "python",
   "name": "python3"
  },
  "language_info": {
   "codemirror_mode": {
    "name": "ipython",
    "version": 3
   },
   "file_extension": ".py",
   "mimetype": "text/x-python",
   "name": "python",
   "nbconvert_exporter": "python",
   "pygments_lexer": "ipython3",
   "version": "3.7.6"
  }
 },
 "nbformat": 4,
 "nbformat_minor": 4
}
