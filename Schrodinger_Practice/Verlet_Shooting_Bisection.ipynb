{
 "cells": [
  {
   "cell_type": "markdown",
   "metadata": {},
   "source": [
    "Attempt May 13 2020 on solving schro. eq. for l = 0 orbitals   \n",
    "Main process:  \n",
    "1. Set up the system of two 1st order ODEs in odefun     \n",
    "2. Set the value of energy eigenvalue at a guess value  \n",
    "3. Feed odefun and energy eigenvalue to the initial value solver (ivp) to integrate the wavefunction   \n",
    "    ivp solver is analogous to the Verlet algorithm I think\n",
    "4. Compare the boundary value with the required boundary condition  \n",
    "5. If the difference is more than a small delta,  \n",
    "    Adjust* the eigenvalue guess\n",
    "6. Repeat from step 3 until the difference is less than a small delta  \n",
    "*we will have to test if we increase or decrease the eigenvalue..."
   ]
  },
  {
   "cell_type": "markdown",
   "metadata": {},
   "source": [
    "First define the ODE from Eq. 19.8 from Feynman's Lecture - The hydrogen atom\n",
    "\n",
    "\\begin{eqnarray}\n",
    "\\frac{1}{r}\\frac{d^2}{dr^2}(r\\psi) = -\\frac{2m}{\\hbar^2}(E + \\frac{e^2}{r})\\psi \\\\\n",
    "\\psi(\\infty) = 0\n",
    "\\end{eqnarray}\n",
    "\n",
    "Eq. 19.13 changes the scale of the r and E such that \n",
    "\n",
    "\\begin{equation}\n",
    "\\frac{d^2f}{d\\rho^2} = - (\\epsilon + \\frac{2}{\\rho})f ~~,\n",
    "\\end{equation} \n",
    "\n",
    "where \n",
    "\\begin{eqnarray}\n",
    "\\rho = \\frac{r}{r_b} \\\\\n",
    "\\epsilon = \\frac{E}{E_r} \\\\\n",
    "f = \\rho\\psi \\\\\n",
    "r_b ~~ \\text{is the bohr radius} \\\\\n",
    "E_r ~~ \\text{is the Rydberg energy}\n",
    "\\end{eqnarray}\n",
    "\n",
    "Next rewrite the second order equation of f as a first order system and implement its right-hand side evaluation:\n",
    "\n",
    "\\begin{eqnarray}\n",
    "y_1' = y_2 \\\\\n",
    "y_2' = - (\\epsilon + \\frac{2}{\\rho}) y_1\n",
    "\\end{eqnarray}\n",
    "\n",
    "Here, y_1 and y_2 are intermediate variables equal to f and f'.  \n",
    "Boundary condition is $f(\\infty) = 0$  \n",
    "The last equality below is directly from rearranging the defined ODE"
   ]
  },
  {
   "cell_type": "markdown",
   "metadata": {},
   "source": [
    "Now turn that into code  \n",
    "Write function that returns y_1' and y_2' (relating to f = rho*psi)  \n",
    "IMPORTANT: we will solve for psi by reconverting f at the end"
   ]
  },
  {
   "cell_type": "code",
   "execution_count": 1,
   "metadata": {},
   "outputs": [],
   "source": [
    "import numpy as np\n",
    "def odefun(rho, f, p, n):\n",
    "    # first unpack the elements in f\n",
    "    y_1, y_2 = f\n",
    "    # p is a one element vector that passes the variable \n",
    "    epsilon = p*n\n",
    "    # define the derivative as above\n",
    "    dy_1dr = y_2\n",
    "    dy_2dr = - (epsilon + 2/rho)*y_1\n",
    "    # return the expression of y_1' and y_2' \n",
    "    return [dy_1dr, dy_2dr]"
   ]
  },
  {
   "cell_type": "markdown",
   "metadata": {},
   "source": [
    "Now take a guess at the first eigenvalue: p = 1  \n",
    "Feed odefun and p = 1 into the ivp solver "
   ]
  },
  {
   "cell_type": "code",
   "execution_count": 4,
   "metadata": {},
   "outputs": [
    {
     "ename": "NameError",
     "evalue": "name 'y_2_0' is not defined",
     "output_type": "error",
     "traceback": [
      "\u001b[0;31m---------------------------------------------------------------------------\u001b[0m",
      "\u001b[0;31mNameError\u001b[0m                                 Traceback (most recent call last)",
      "\u001b[0;32m<ipython-input-4-c3c4fc236515>\u001b[0m in \u001b[0;36m<module>\u001b[0;34m\u001b[0m\n\u001b[1;32m     16\u001b[0m \u001b[0mrho\u001b[0m \u001b[0;34m=\u001b[0m \u001b[0mnp\u001b[0m\u001b[0;34m.\u001b[0m\u001b[0mlinspace\u001b[0m\u001b[0;34m(\u001b[0m\u001b[0;36m0.1\u001b[0m\u001b[0;34m,\u001b[0m \u001b[0;36m20\u001b[0m\u001b[0;34m)\u001b[0m\u001b[0;34m\u001b[0m\u001b[0;34m\u001b[0m\u001b[0m\n\u001b[1;32m     17\u001b[0m \u001b[0;31m# sol takes the results r, rpsi and drpsi/dr solved from the ODE\u001b[0m\u001b[0;34m\u001b[0m\u001b[0;34m\u001b[0m\u001b[0;34m\u001b[0m\u001b[0m\n\u001b[0;32m---> 18\u001b[0;31m \u001b[0msol\u001b[0m \u001b[0;34m=\u001b[0m \u001b[0msp\u001b[0m\u001b[0;34m.\u001b[0m\u001b[0mintegrate\u001b[0m\u001b[0;34m.\u001b[0m\u001b[0msolve_ivp\u001b[0m\u001b[0;34m(\u001b[0m\u001b[0modefun\u001b[0m\u001b[0;34m,\u001b[0m \u001b[0;34m[\u001b[0m\u001b[0;36m0.1\u001b[0m\u001b[0;34m,\u001b[0m \u001b[0;36m50\u001b[0m\u001b[0;34m,\u001b[0m \u001b[0;36m100\u001b[0m\u001b[0;34m]\u001b[0m\u001b[0;34m,\u001b[0m \u001b[0my0\u001b[0m\u001b[0;34m=\u001b[0m\u001b[0;34m[\u001b[0m\u001b[0my_1_0\u001b[0m\u001b[0;34m,\u001b[0m \u001b[0my_2_0\u001b[0m\u001b[0;34m]\u001b[0m\u001b[0;34m,\u001b[0m \u001b[0mt_eval\u001b[0m\u001b[0;34m=\u001b[0m\u001b[0mrho\u001b[0m\u001b[0;34m,\u001b[0m \u001b[0margs\u001b[0m\u001b[0;34m=\u001b[0m\u001b[0;34m(\u001b[0m\u001b[0mp\u001b[0m\u001b[0;34m,\u001b[0m \u001b[0;36m1\u001b[0m\u001b[0;34m)\u001b[0m\u001b[0;34m)\u001b[0m\u001b[0;34m\u001b[0m\u001b[0;34m\u001b[0m\u001b[0m\n\u001b[0m\u001b[1;32m     19\u001b[0m \u001b[0;31m# y_1 takes the first column of rpsi: rpsi\u001b[0m\u001b[0;34m\u001b[0m\u001b[0;34m\u001b[0m\u001b[0;34m\u001b[0m\u001b[0m\n\u001b[1;32m     20\u001b[0m \u001b[0my_1\u001b[0m \u001b[0;34m=\u001b[0m \u001b[0msol\u001b[0m\u001b[0;34m.\u001b[0m\u001b[0my\u001b[0m\u001b[0;34m[\u001b[0m\u001b[0;36m0\u001b[0m\u001b[0;34m]\u001b[0m\u001b[0;34m\u001b[0m\u001b[0;34m\u001b[0m\u001b[0m\n",
      "\u001b[0;31mNameError\u001b[0m: name 'y_2_0' is not defined"
     ]
    }
   ],
   "source": [
    "# import necessary packages\n",
    "import numpy as np\n",
    "import scipy.integrate \n",
    "import scipy as sp\n",
    "from scipy.optimize import fsolve\n",
    "import matplotlib.pyplot as plt\n",
    "\n",
    "# define initial guess p\n",
    "# p1, p2  and delta_p should be used to adjust p\n",
    "p1 = 1.0\n",
    "\n",
    "# define the boundary condition for f = rho*psi (NOT psi itself)\n",
    "y_1_0 = 0\n",
    "\n",
    "# define the rho space\n",
    "rho = np.linspace(0.1, 20)\n",
    "# sol takes the results r, rpsi and drpsi/dr solved from the ODE\n",
    "sol = sp.integrate.solve_ivp(odefun, [0.1, 50, 100], y0=[y_1_0, y_2_0], t_eval=rho, args=(p, 1))\n",
    "# y_1 takes the first column of rpsi: rpsi\n",
    "y_1 = sol.y[0]\n",
    "# boundcalc takes the last element of y_1: last element of rpsi\n",
    "boundcalc = y_1[-1]"
   ]
  },
  {
   "cell_type": "markdown",
   "metadata": {},
   "source": [
    "Clearly, we don't have the \"velocity\" (derivative of the psi)  \n",
    "We therefore cannot use the ivp solver  \n",
    "  \n",
    "What we need is an ODE solver that doesn't need the velocity  \n",
    "Solution: Verlet algorithm  \n",
    "As per Matt Frick's summary, it solves ODEs using the taylor expansion  \n",
    "It can solve an ODE by knowing any two points  \n",
    "This is perfect for radial potentials because we know the points at far distances are zero  \n",
    "We will then integrate backwards  \n",
    "\n",
    "From Matt Frick's summary:  \n",
    "\"The Verlet algorithm is a means of calculating the next entry in a differential equation based on a third order Taylor expansion. Consider a differential equation of the form Ψ′′(x) = F[Ψ(x),x].   \n",
    "By Taylor expanding about a point x, we can find an approximation for the value of Ψ at a distance δx away:  \n",
    "Ψ(x + δx) = Ψ(x) + δxΨ′(x) + δx2F [Ψ(x), x] + δx3Ψ′′′(x) + O(δx4),   \n",
    "Ψ(x − δx) = Ψ(x) − δxΨ′(x) + δx2F [Ψ(x), x] − δx3Ψ′′′(x) + O(δx4).  \n",
    "Combining these equations to elimate the first and third derivatives, we find  \n",
    "Ψ(x + δx) = 2Ψ(x) − Ψ(x − δx) + 2δx2F [Ψ(x), x], (30)  \n",
    "which allows us to determine the next step in a series as long as we know the last two steps. Thus, if we know any two steps in a series we can find all the steps in that series by successive use of equation 30. This allows us to easily determine the radial wavefunction of a spherically symmetric system since we know that the radial wavefunction must tend to zero at infinite distances, or in the case of numerics, “large enough” distances.\" \n",
    "\n",
    "So instead of ivp solver, we formulate the verlet algorithm  \n",
    "We take the system of taylor expansions:  \n",
    "  \n",
    "$f(\\rho + d\\rho) = f(\\rho) + dxf'(\\rho) + \\frac{dx^2f''(\\rho)}{2!} + \\frac{dx^3f'''(\\rho)}{3!} + ...$  \n",
    "$f(\\rho - d\\rho) = f(\\rho) - dxf'(\\rho) + \\frac{dx^2f''(\\rho)}{2!} - \\frac{dx^3f'''(\\rho)}{3!} + ...$ \n",
    "  \n",
    "Adding $f(\\rho + d\\rho)$ and $f(\\rho - d\\rho)$ together gives a RHS of:  \n",
    "\n",
    "$f(\\rho + d\\rho)$ + $f(\\rho - d\\rho)$ = $2f(\\rho) + 2*\\frac{dx^2f''(\\rho)}{2!}$\n",
    "  \n",
    "Rearranging gives the integration equation:  \n",
    "  \n",
    "$f(\\rho - d\\rho)$ = $2f(\\rho) - f(\\rho + d\\rho) + 2\\frac{dx^2f''(\\rho)}{2!}$ \n",
    "  \n",
    "Notice that in our second order ODE,  \n",
    "  \n",
    "$f''(\\rho) = - (\\epsilon + \\frac{2}{\\rho})f(\\rho)$  \n",
    "  \n",
    "And so replacing the $f''(\\rho)$ in the integration equation:  \n",
    "  \n",
    "$f(\\rho - d\\rho)$ = $2f(\\rho) - f(\\rho + d\\rho) + 2\\frac{dx^2(- (\\epsilon + \\frac{2}{\\rho})f(\\rho) )}{2!}$  \n",
    "  \n",
    "Thus, if we know a value $f(\\rho + d\\rho)$ and the value before that, $f(\\rho)$, we will know the value at an even earlier point, $f(\\rho - d\\rho)$.   \n",
    "  \n",
    "This allows us to integrate the wavefunction backwards since we know the end values (zero and close to zero)  "
   ]
  },
  {
   "cell_type": "markdown",
   "metadata": {},
   "source": [
    "Flow chart for defining Verlet function:\n",
    "1. Set the rho range (called rho) with an increment drho  \n",
    "2. Initialize an zero list called f to hold the wavefunction - same length as rho  \n",
    "3. Set the end values of f to be 0 and 10^-10  \n",
    "4. Define the integration equation from above  \n",
    "5. Loop over the integration equation, going backwards in index  \n",
    "6. Normalize f  \n",
    "7. Return f"
   ]
  },
  {
   "cell_type": "code",
   "execution_count": 2,
   "metadata": {},
   "outputs": [
    {
     "name": "stdout",
     "output_type": "stream",
     "text": [
      "Is 1 if theo1 is normalized: 1.0\n",
      "Is 1 if theo2 is normalized: 0.9999999999999994\n",
      "Is 1 if theo3 is normalized: 1.0000000000000022\n",
      "Is 1 if $\\psi$ is normalized: 0.9999999999999991\n"
     ]
    },
    {
     "data": {
      "image/png": "[encoded data removed]",
      "text/plain": [
       "<Figure size 432x288 with 1 Axes>"
      ]
     },
     "metadata": {
      "needs_background": "light"
     },
     "output_type": "display_data"
    },
    {
     "data": {
      "image/png": "[encoded data removed]",
      "text/plain": [
       "<Figure size 432x288 with 1 Axes>"
      ]
     },
     "metadata": {
      "needs_background": "light"
     },
     "output_type": "display_data"
    },
    {
     "data": {
      "image/png": "[encoded data removed]",
      "text/plain": [
       "<Figure size 432x288 with 1 Axes>"
      ]
     },
     "metadata": {
      "needs_background": "light"
     },
     "output_type": "display_data"
    },
    {
     "data": {
      "image/png": "[encoded data removed]",
      "text/plain": [
       "<Figure size 432x288 with 1 Axes>"
      ]
     },
     "metadata": {
      "needs_background": "light"
     },
     "output_type": "display_data"
    },
    {
     "data": {
      "image/png": "[encoded data removed]",
      "text/plain": [
       "<Figure size 432x288 with 1 Axes>"
      ]
     },
     "metadata": {
      "needs_background": "light"
     },
     "output_type": "display_data"
    },
    {
     "data": {
      "image/png": "[encoded data removed]",
      "text/plain": [
       "<Figure size 432x288 with 1 Axes>"
      ]
     },
     "metadata": {
      "needs_background": "light"
     },
     "output_type": "display_data"
    }
   ],
   "source": [
    "# import packages\n",
    "import numpy as np\n",
    "import math\n",
    "\n",
    "def Verlet(epsilon):\n",
    "    # defining rho range\n",
    "    totrho = 2000\n",
    "    rho_min = 0\n",
    "    rho_max = 200\n",
    "    rho = np.linspace(rho_min, rho_max, totrho)\n",
    "    drho = (rho_max)/(totrho)\n",
    "    \n",
    "    # initialize a zero list of the wavefunction of length rho\n",
    "    length = totrho\n",
    "    f = [0]*length\n",
    "   \n",
    "    # set the end values of f; mind the indexing \n",
    "    f[length - 1] = 0\n",
    "    f[length - 2] = 10**-10\n",
    "    \n",
    "    for i in range(length-2, 1, -1):\n",
    "        f[i-1] = 2*f[i] - f[i+1] + 2*drho**2*((-epsilon - 2/rho[i])*f[i])/2\n",
    "    \n",
    "    #print('this is f', f)\n",
    "    \n",
    "    psi= [0]*length\n",
    "    # solve for psi - wavefunction\n",
    "    for i in range(1, length, 1):\n",
    "        psi[i] = f[i]/rho[i]\n",
    "    \n",
    "    # normalize the wavefunction f\n",
    "    # find the total sum (A) of all points of f\n",
    "    A = 0 \n",
    "    for i in range(length):\n",
    "        A += psi[i]**2 # should be some factors of pi likely\n",
    "\n",
    "    Norm = np.sqrt(A)\n",
    "    psi = [x/Norm for x in psi]\n",
    "    return psi # normalized wavefunction  \n",
    "\n",
    "# Theory calc\n",
    "\n",
    "totrho = 2000\n",
    "rho_min = 0\n",
    "rho_max = 200\n",
    "rho = np.linspace(rho_min, rho_max, totrho)\n",
    "drho = (rho_max)/(totrho)\n",
    "\n",
    "# n = 1\n",
    "# Normalize the analytic solution\n",
    "theo1 = np.exp(-rho)\n",
    "A = sum([x**2 for x in theo1])\n",
    "theo1 = [x/np.sqrt(A) for x in theo1]\n",
    "# Check the psi normalization\n",
    "print('Is 1 if theo1 is normalized:', sum([x**2 for x in theo1]))\n",
    "\n",
    "# n = 2\n",
    "# Normalize the analytic solution\n",
    "theo2 = (1 - rho/2)*np.exp(-rho/2)\n",
    "A = sum([x**2 for x in theo2])\n",
    "theo2 = [x/np.sqrt(A) for x in theo2]\n",
    "# Check the psi normalization\n",
    "print('Is 1 if theo2 is normalized:', sum([x**2 for x in theo2]))\n",
    "\n",
    "# n = 3\n",
    "# Normalize the analytic solution\n",
    "theo3 = (1 - 2*rho/3 + 2*rho**2/27)*np.exp(-rho/3)\n",
    "A = sum([x**2 for x in theo3])\n",
    "theo3 = [x/np.sqrt(A) for x in theo3]\n",
    "# Check the psi normalization\n",
    "print('Is 1 if theo3 is normalized:', sum([x**2 for x in theo3]))\n",
    "\n",
    "# Calculate the normalized wavefunction\n",
    "psi = Verlet(-0.97)\n",
    "\n",
    "# Check the psi normalization\n",
    "print('Is 1 if $\\psi$ is normalized:', sum([x**2 for x in psi]))\n",
    "\n",
    "import matplotlib.pyplot as plt\n",
    "totrho = 2000\n",
    "rho_min = 0\n",
    "rho_max = 200\n",
    "rho = np.linspace(rho_min, rho_max, totrho)\n",
    "\n",
    "# plot n = 1\n",
    "plt.plot(rho[1::], psi[1::], label = '$\\psi$', linewidth = 10)\n",
    "#plt.plot(rho, rho*psi, label = '$\\\\rho\\psi$')\n",
    "#plt.plot(rho, [i ** 2 for i in rho*psi], label = '$(\\\\rho\\psi)^2$')\n",
    "plt.plot(rho[1::], theo1[1::], label = 'theory n=1', color = 'r')\n",
    "plt.xlabel(\"$\\\\rho$ (r_b)\")\n",
    "plt.legend()\n",
    "plt.show()\n",
    "\n",
    "# calculating and plotting residuals\n",
    "res1 = np.subtract(psi, theo1)\n",
    "plt.plot(rho[1::], res1[1::], label = 'residual n=1')\n",
    "plt.legend()\n",
    "plt.show()\n",
    "\n",
    "# plot n = 2\n",
    "psi = Verlet(-1/4)\n",
    "plt.plot(rho[1::], psi[1::], label = '$\\psi$', linewidth = 10)\n",
    "plt.plot(rho[1::], theo2[1::], label = 'theory n=2')\n",
    "plt.plot(rho, [x*-1 for x in theo2], label = 'theory n=2 (inv.)')\n",
    "plt.legend()\n",
    "plt.show()\n",
    "\n",
    "# calculating and plotting residuals\n",
    "res2 = np.subtract(psi, theo2)\n",
    "plt.plot(rho[1::], res2[1::], label = 'residual n=2')\n",
    "plt.legend()\n",
    "plt.show()\n",
    "\n",
    "# plot n = 3\n",
    "psi = Verlet(-1/9)\n",
    "plt.plot(rho[1::], psi[1::], label = '$\\psi$', linewidth = 10)\n",
    "plt.plot(rho[1::], theo3[1::], label = 'theory n=3')\n",
    "plt.xlabel(\"$\\\\rho$ (r_b)\")\n",
    "plt.legend()\n",
    "plt.show()\n",
    "\n",
    "# calculating and plotting residuals\n",
    "res3 = np.subtract(psi, theo3)\n",
    "plt.plot(rho[1::], res3[1::], label = 'residual n=3')\n",
    "plt.legend()\n",
    "plt.show()"
   ]
  },
  {
   "cell_type": "markdown",
   "metadata": {},
   "source": [
    "Now that we have the Verlet integrator function, we can use it in the shooting method. \n",
    "  \n",
    "Flowchart for the shooting method:\n",
    "1. Set an initial guess for the eigenvalue E called E1\n",
    "2. Set a value called called E2 (for Bisection purposes)\n",
    "3. Set a dE variable to modify E, where E2 = E1 + dE\n",
    "4. Calculate f with the initial E1 guess\n",
    "5. Define delta_0 as the difference between f and required condition at the last index\n",
    "6. Calculate f again but with E2 guess\n",
    "7. Define delta_2 as the difference between this f and required condition at the last index\n",
    "8. If delta_2 is within the tolerance E2 is the answer; break\n",
    "9. If delta_0 and delta_2 have different signs, bisect\n",
    "10. E = (E1 + E2)/2 \n",
    "11. Run Verlet to calculate f again\n",
    "12. Repeat from step 6\n",
    "13. If delta_0 and delta_2 have the same sign, then assign E1 = E2 and increment E2 by dE\n",
    "14. Can check for edge cases along the way"
   ]
  },
  {
   "cell_type": "code",
   "execution_count": null,
   "metadata": {},
   "outputs": [],
   "source": [
    "# define initial guess and increments\n",
    "E1 = -2 \n",
    "dE = 0.01\n",
    "E2 = E1 + dE\n",
    "\n",
    "f = Verlet(E1)"
   ]
  },
  {
   "cell_type": "code",
   "execution_count": 86,
   "metadata": {},
   "outputs": [
    {
     "ename": "TypeError",
     "evalue": "unsupported operand type(s) for /: 'list' and 'list'",
     "output_type": "error",
     "traceback": [
      "\u001b[0;31m---------------------------------------------------------------------------\u001b[0m",
      "\u001b[0;31mTypeError\u001b[0m                                 Traceback (most recent call last)",
      "\u001b[0;32m<ipython-input-86-1239e78756ce>\u001b[0m in \u001b[0;36m<module>\u001b[0;34m\u001b[0m\n\u001b[1;32m      1\u001b[0m \u001b[0mA\u001b[0m \u001b[0;34m=\u001b[0m \u001b[0;34m[\u001b[0m\u001b[0;36m1\u001b[0m\u001b[0;34m,\u001b[0m \u001b[0;36m2\u001b[0m\u001b[0;34m,\u001b[0m \u001b[0;36m3\u001b[0m\u001b[0;34m]\u001b[0m\u001b[0;34m\u001b[0m\u001b[0;34m\u001b[0m\u001b[0m\n\u001b[1;32m      2\u001b[0m \u001b[0mB\u001b[0m \u001b[0;34m=\u001b[0m \u001b[0;34m[\u001b[0m\u001b[0;36m3\u001b[0m\u001b[0;34m,\u001b[0m \u001b[0;36m2\u001b[0m\u001b[0;34m,\u001b[0m \u001b[0;36m1\u001b[0m\u001b[0;34m]\u001b[0m\u001b[0;34m\u001b[0m\u001b[0;34m\u001b[0m\u001b[0m\n\u001b[0;32m----> 3\u001b[0;31m \u001b[0mA\u001b[0m\u001b[0;34m/\u001b[0m\u001b[0mB\u001b[0m\u001b[0;34m\u001b[0m\u001b[0;34m\u001b[0m\u001b[0m\n\u001b[0m",
      "\u001b[0;31mTypeError\u001b[0m: unsupported operand type(s) for /: 'list' and 'list'"
     ]
    }
   ],
   "source": [
    "A = [1, 2, 3]\n",
    "B = [3, 2, 1]\n",
    "A/B"
   ]
  },
  {
   "cell_type": "code",
   "execution_count": null,
   "metadata": {},
   "outputs": [],
   "source": []
  }
 ],
 "metadata": {
  "kernelspec": {
   "display_name": "Python 3",
   "language": "python",
   "name": "python3"
  },
  "language_info": {
   "codemirror_mode": {
    "name": "ipython",
    "version": 3
   },
   "file_extension": ".py",
   "mimetype": "text/x-python",
   "name": "python",
   "nbconvert_exporter": "python",
   "pygments_lexer": "ipython3",
   "version": "3.7.6"
  }
 },
 "nbformat": 4,
 "nbformat_minor": 4
}
