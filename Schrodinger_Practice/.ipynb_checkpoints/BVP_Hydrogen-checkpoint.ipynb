{
 "cells": [
  {
   "cell_type": "code",
   "execution_count": 31,
   "metadata": {},
   "outputs": [],
   "source": [
    "# Attempt May 11 2020 on solving schro. eq. for l = 0 orbitals \n",
    "# This is an eigenvalue BVP (boundary value problem) so use scipy.integrate.solve_bvp instead of ivp\n",
    "# Boundary conditions are psi(0) = 0 and psi(inf) = 0\n",
    "# Following https://docs.scipy.org/doc/scipy-0.18.1/reference/generated/scipy.integrate.solve_bvp.html"
   ]
  },
  {
   "cell_type": "code",
   "execution_count": 32,
   "metadata": {},
   "outputs": [
    {
     "data": {
      "text/latex": [
       "\\begin{eqnarray}\n",
       "\\frac{1}{r}\\frac{d^2}{dr^2}(r\\psi) = \\frac{2m}{\\hbar^2}(E + \\frac{e^2}{r})\\psi \\\\\n",
       "\\psi(0) = 0 ~~,~~ \\psi(\\infty) = 0\n",
       "\\end{eqnarray}"
      ],
      "text/plain": [
       "<IPython.core.display.Latex object>"
      ]
     },
     "execution_count": 32,
     "metadata": {},
     "output_type": "execute_result"
    }
   ],
   "source": [
    "# First define the ODE from Eq. 19.8 from Feynman's Lecture - The hydrogen atom\n",
    "from IPython.display import Latex\n",
    "Latex(r\"\"\"\\begin{eqnarray}\n",
    "\\frac{1}{r}\\frac{d^2}{dr^2}(r\\psi) = \\frac{2m}{\\hbar^2}(E + \\frac{e^2}{r})\\psi \\\\\n",
    "\\psi(0) = 0 ~~,~~ \\psi(\\infty) = 0\n",
    "\\end{eqnarray}\"\"\")"
   ]
  },
  {
   "cell_type": "code",
   "execution_count": 33,
   "metadata": {},
   "outputs": [
    {
     "data": {
      "text/latex": [
       "\\begin{eqnarray}\n",
       "y_1' = \\frac{d(r\\psi)}{dr}\\\\\n",
       "y_2' = y_1'' = \\frac{d^2(r\\psi)}{dr^2} = \\frac{r2m}{\\hbar^2}(E + \\frac{e^2}{r})\\psi \\\\\n",
       "\n",
       "\\end{eqnarray}"
      ],
      "text/plain": [
       "<IPython.core.display.Latex object>"
      ]
     },
     "execution_count": 33,
     "metadata": {},
     "output_type": "execute_result"
    }
   ],
   "source": [
    "# Next rewrite the second order equation as a first order system and implement its right-hand side evaluation:\n",
    "from IPython.display import Latex\n",
    "Latex(r\"\"\"\\begin{eqnarray}\n",
    "y_1' = \\frac{d(r\\psi)}{dr}\\\\\n",
    "y_2' = y_1'' = \\frac{d^2(r\\psi)}{dr^2} = \\frac{r2m}{\\hbar^2}(E + \\frac{e^2}{r})\\psi \\\\\n",
    "\n",
    "\\end{eqnarray}\"\"\")\n",
    "# Here, y_1 and y_2 are intermediate variables relating the derivatives of psi\n",
    "# The last equality below is directly from rearranging the defined ODE"
   ]
  },
  {
   "cell_type": "code",
   "execution_count": 74,
   "metadata": {},
   "outputs": [],
   "source": [
    "# Now turn that into code\n",
    "# Write function that returns y_1' and y_2' wrt (r*psi)\n",
    "# IMPORTANT: we will solve for r*psi as the amplitude, rather than psi\n",
    "import numpy as np\n",
    "def fun(r, rpsi, p):\n",
    "    # p is a one element vector that passes the variable \n",
    "    E = p[0]\n",
    "    # return the expression of y_1' and y_2' wrt psi\n",
    "    # np.vstack stacks arrays in sequence vertically (row wise).\n",
    "    return np.vstack(rpsi[1], 2*r*(E + 1/r)*rpsi[0]/r)\n",
    "    # rpsi[1] is the rpsi derivative\n",
    "    # let m = hbar = e = 1\n"
   ]
  },
  {
   "cell_type": "code",
   "execution_count": 75,
   "metadata": {},
   "outputs": [],
   "source": [
    "# Now define boundary conditions\n",
    "# can pass the starting and ending values through bc\n",
    "def bc(rpsi_a, rpsi_b, p):\n",
    "    return np.array([rpsi_a[0], rpsi_b[0], p[0]])"
   ]
  },
  {
   "cell_type": "code",
   "execution_count": 76,
   "metadata": {},
   "outputs": [],
   "source": [
    "# Setup the initial mesh and guess for rpsi\n",
    "r = np.linspace(0, 20, 50)\n",
    "rpsi_a = np.zeros((2, r.size))\n",
    "rpsi_b = np.zeros((2, r.size))\n",
    "\n",
    "# Set initial conditions\n",
    "rpsi_a[0] = 0 \n",
    "rpsi_b[0] = 0"
   ]
  },
  {
   "cell_type": "code",
   "execution_count": 78,
   "metadata": {},
   "outputs": [
    {
     "ename": "TypeError",
     "evalue": "fun() missing 1 required positional argument: 'p'",
     "output_type": "error",
     "traceback": [
      "\u001b[0;31m---------------------------------------------------------------------------\u001b[0m",
      "\u001b[0;31mTypeError\u001b[0m                                 Traceback (most recent call last)",
      "\u001b[0;32m<ipython-input-78-2f588149c2bf>\u001b[0m in \u001b[0;36m<module>\u001b[0;34m\u001b[0m\n\u001b[1;32m      1\u001b[0m \u001b[0;31m# Use the solver\u001b[0m\u001b[0;34m\u001b[0m\u001b[0;34m\u001b[0m\u001b[0;34m\u001b[0m\u001b[0m\n\u001b[1;32m      2\u001b[0m \u001b[0;32mfrom\u001b[0m \u001b[0mscipy\u001b[0m\u001b[0;34m.\u001b[0m\u001b[0mintegrate\u001b[0m \u001b[0;32mimport\u001b[0m \u001b[0msolve_bvp\u001b[0m\u001b[0;34m\u001b[0m\u001b[0;34m\u001b[0m\u001b[0m\n\u001b[0;32m----> 3\u001b[0;31m \u001b[0msol\u001b[0m \u001b[0;34m=\u001b[0m \u001b[0msolve_bvp\u001b[0m\u001b[0;34m(\u001b[0m\u001b[0mfun\u001b[0m\u001b[0;34m,\u001b[0m \u001b[0mbc\u001b[0m\u001b[0;34m,\u001b[0m \u001b[0mr\u001b[0m\u001b[0;34m,\u001b[0m \u001b[0mrpsi\u001b[0m\u001b[0;34m)\u001b[0m\u001b[0;34m\u001b[0m\u001b[0;34m\u001b[0m\u001b[0m\n\u001b[0m",
      "\u001b[0;32m/opt/conda/lib/python3.7/site-packages/scipy/integrate/_bvp.py\u001b[0m in \u001b[0;36msolve_bvp\u001b[0;34m(fun, bc, x, y, p, S, fun_jac, bc_jac, tol, max_nodes, verbose, bc_tol)\u001b[0m\n\u001b[1;32m   1063\u001b[0m         fun, bc, fun_jac, bc_jac, k, a, S, D, dtype)\n\u001b[1;32m   1064\u001b[0m \u001b[0;34m\u001b[0m\u001b[0m\n\u001b[0;32m-> 1065\u001b[0;31m     \u001b[0mf\u001b[0m \u001b[0;34m=\u001b[0m \u001b[0mfun_wrapped\u001b[0m\u001b[0;34m(\u001b[0m\u001b[0mx\u001b[0m\u001b[0;34m,\u001b[0m \u001b[0my\u001b[0m\u001b[0;34m,\u001b[0m \u001b[0mp\u001b[0m\u001b[0;34m)\u001b[0m\u001b[0;34m\u001b[0m\u001b[0;34m\u001b[0m\u001b[0m\n\u001b[0m\u001b[1;32m   1066\u001b[0m     \u001b[0;32mif\u001b[0m \u001b[0mf\u001b[0m\u001b[0;34m.\u001b[0m\u001b[0mshape\u001b[0m \u001b[0;34m!=\u001b[0m \u001b[0my\u001b[0m\u001b[0;34m.\u001b[0m\u001b[0mshape\u001b[0m\u001b[0;34m:\u001b[0m\u001b[0;34m\u001b[0m\u001b[0;34m\u001b[0m\u001b[0m\n\u001b[1;32m   1067\u001b[0m         raise ValueError(\"`fun` return is expected to have shape {}, \"\n",
      "\u001b[0;32m/opt/conda/lib/python3.7/site-packages/scipy/integrate/_bvp.py\u001b[0m in \u001b[0;36mfun_p\u001b[0;34m(x, y, _)\u001b[0m\n\u001b[1;32m    648\u001b[0m     \u001b[0;32mif\u001b[0m \u001b[0mk\u001b[0m \u001b[0;34m==\u001b[0m \u001b[0;36m0\u001b[0m\u001b[0;34m:\u001b[0m\u001b[0;34m\u001b[0m\u001b[0;34m\u001b[0m\u001b[0m\n\u001b[1;32m    649\u001b[0m         \u001b[0;32mdef\u001b[0m \u001b[0mfun_p\u001b[0m\u001b[0;34m(\u001b[0m\u001b[0mx\u001b[0m\u001b[0;34m,\u001b[0m \u001b[0my\u001b[0m\u001b[0;34m,\u001b[0m \u001b[0m_\u001b[0m\u001b[0;34m)\u001b[0m\u001b[0;34m:\u001b[0m\u001b[0;34m\u001b[0m\u001b[0;34m\u001b[0m\u001b[0m\n\u001b[0;32m--> 650\u001b[0;31m             \u001b[0;32mreturn\u001b[0m \u001b[0mnp\u001b[0m\u001b[0;34m.\u001b[0m\u001b[0masarray\u001b[0m\u001b[0;34m(\u001b[0m\u001b[0mfun\u001b[0m\u001b[0;34m(\u001b[0m\u001b[0mx\u001b[0m\u001b[0;34m,\u001b[0m \u001b[0my\u001b[0m\u001b[0;34m)\u001b[0m\u001b[0;34m,\u001b[0m \u001b[0mdtype\u001b[0m\u001b[0;34m)\u001b[0m\u001b[0;34m\u001b[0m\u001b[0;34m\u001b[0m\u001b[0m\n\u001b[0m\u001b[1;32m    651\u001b[0m \u001b[0;34m\u001b[0m\u001b[0m\n\u001b[1;32m    652\u001b[0m         \u001b[0;32mdef\u001b[0m \u001b[0mbc_wrapped\u001b[0m\u001b[0;34m(\u001b[0m\u001b[0mya\u001b[0m\u001b[0;34m,\u001b[0m \u001b[0myb\u001b[0m\u001b[0;34m,\u001b[0m \u001b[0m_\u001b[0m\u001b[0;34m)\u001b[0m\u001b[0;34m:\u001b[0m\u001b[0;34m\u001b[0m\u001b[0;34m\u001b[0m\u001b[0m\n",
      "\u001b[0;31mTypeError\u001b[0m: fun() missing 1 required positional argument: 'p'"
     ]
    }
   ],
   "source": [
    "# Use the solver\n",
    "from scipy.integrate import solve_bvp\n",
    "sol = solve_bvp(fun, bc, r, rpsi, p=[1])"
   ]
  },
  {
   "cell_type": "code",
   "execution_count": null,
   "metadata": {},
   "outputs": [],
   "source": []
  }
 ],
 "metadata": {
  "kernelspec": {
   "display_name": "Python 3",
   "language": "python",
   "name": "python3"
  },
  "language_info": {
   "codemirror_mode": {
    "name": "ipython",
    "version": 3
   },
   "file_extension": ".py",
   "mimetype": "text/x-python",
   "name": "python",
   "nbconvert_exporter": "python",
   "pygments_lexer": "ipython3",
   "version": "3.7.6"
  }
 },
 "nbformat": 4,
 "nbformat_minor": 4
}
