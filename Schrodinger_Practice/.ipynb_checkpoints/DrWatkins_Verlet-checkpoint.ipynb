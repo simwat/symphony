{
 "cells": [
  {
   "cell_type": "code",
   "execution_count": null,
   "metadata": {},
   "outputs": [],
   "source": [
    "def v(x):   #hydrogenic potential\n",
    "    return -1/x\n",
    "\n",
    "def vpuls(x):   #puls potential\n",
    "    a0=1\n",
    "    return -1/x*(1-2*np.exp(-2*x/a0)*(1+x/a0))\n",
    "\n",
    "Nmax=201\n",
    "Rmax=20  # radius in Bohr radii\n",
    "Rinc=Rmax/(Nmax-1)\n",
    "#print(Rinc)\n",
    "R=np.linspace(0,Rmax,Nmax)\n",
    "#print(R)\n",
    "U=np.empty([Nmax])    # wave function product r*R(r)\n",
    "U[Nmax-1]=0           #initial values at large r\n",
    "U[Nmax-2]=1e-10\n",
    "#print('U',type(U),len(U))\n",
    "#print('R',type(R),len(R))\n",
    "#print(R[Nmax-1])\n",
    "\n",
    "l=0\n",
    "#solve wavefunctions r*R using Verlet method\n",
    "for E in [-1]: \n",
    "    for i in range(Nmax-1,1,-1):\n",
    "        #print(R[i],v(R[i]))\n",
    "        U[i-2]=2*U[i-1]-U[i]+Rinc**2*(-E+2*v(R[i-1]+l*(l+1)/R[i-1]))*U[i-1]\n",
    "        #Franchini code: u(i-1)=2*u(i)-u(i+1)+h**2*(-2*e+2*v(i)+l*(l+1)/x(i)**2)*u(i)\n",
    "    #plt.yscale('log')\n",
    "    plt.plot(R,U,label='U')\n",
    "    plt.plot(R,U/R,label='U/r')\n",
    "    plt.legend()"
   ]
  },
  {
   "cell_type": "code",
   "execution_count": null,
   "metadata": {},
   "outputs": [],
   "source": []
  }
 ],
 "metadata": {
  "kernelspec": {
   "display_name": "Python 3",
   "language": "python",
   "name": "python3"
  }
 },
 "nbformat": 4,
 "nbformat_minor": 4
}
