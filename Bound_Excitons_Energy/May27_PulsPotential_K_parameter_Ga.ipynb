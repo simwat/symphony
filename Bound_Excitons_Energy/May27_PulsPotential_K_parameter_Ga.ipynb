{
 "cells": [
  {
   "cell_type": "markdown",
   "metadata": {},
   "source": [
    "Please refer to files Verlet_s_orbitals and p_orbitals_1 for detailed explanation of Verlet method. \n",
    "\n",
    "Now that we have the Verlet integrator function, we can use it in the shooting/bisection method. \n",
    "  \n",
    "Flowchart for the shooting/bisection method:\n",
    "1. Set an initial guess for the eigenvalue E called E1\n",
    "2. Set a value called called E2 (for Bisection purposes)\n",
    "3. Set a dE variable to modify E, where E2 = E1 + dE\n",
    "4. Calculate f with the initial E1 guess\n",
    "5. Define delta_0 as the difference between f and required condition at the last index\n",
    "6. Calculate f again but with E2 guess\n",
    "7. Define delta_2 as the difference between this f and required condition at the last index\n",
    "8. If delta_2 is within the tolerance E2 is the answer; break\n",
    "9. If delta_0 and delta_2 have different signs, bisect\n",
    "10. E = (E1 + E2)/2 \n",
    "11. Run Verlet to calculate f again\n",
    "12. Repeat from step 6\n",
    "13. If delta_0 and delta_2 have the same sign, then assign E1 = E2 and increment E2 by dE\n",
    "14. Can check for edge cases along the way"
   ]
  },
  {
   "cell_type": "markdown",
   "metadata": {},
   "source": [
    "Before, we worked on the Schrodinger equation for hydrogen:  \n",
    "  \n",
    "\\begin{equation}\n",
    "\\frac{1}{r}\\frac{d^2}{dr^2}(r\\psi) = \\frac{2m}{\\hbar^2}(-E + V(r))\\psi \\\\\n",
    "\\end{equation}\n",
    "\n",
    "  \n",
    "where V(r) = $- \\frac{e^2}{r}$  \n",
    "  \n",
    "Now for excitons, the proposed Puls potential is:   \n",
    "\\begin{equation}\n",
    "V(r) = \\frac{-e^2}{\\epsilon_0r_h}[1 - 2e^\\frac{-2r_h}{a_e}(1+\\frac{r_h}{a_e})] \\\\\n",
    "\\end{equation}\n",
    "  \n",
    "After the following assumptions and substitutions:  \n",
    "  \n",
    "\\begin{equation}\n",
    "\\rho_h = \\frac{r_h}{a_A}\n",
    "\\end{equation}\n",
    "\n",
    "\\begin{equation}\n",
    "a_A = \\frac{\\hbar^2}{m_h e^2}\n",
    "\\end{equation}\n",
    "\n",
    "\\begin{equation}\n",
    "a_D = \\frac{\\hbar^2}{m_e e^2}\n",
    "\\end{equation}\n",
    "\n",
    "\\begin{equation}\n",
    "a_e = K a_D\n",
    "\\end{equation}\n",
    "\n",
    "\\begin{equation}\n",
    "Ry_h = \\frac{m_h e^4}{2\\hbar^2}  \n",
    "\\end{equation}\n",
    "\n",
    "\\begin{equation}\n",
    "Ry_e = \\frac{m_e e^4}{2\\hbar^2}  \n",
    "\\end{equation}\n",
    "\n",
    "\\begin{equation}\n",
    "\\epsilon_0 = 1\n",
    "\\end{equation}\n",
    "    \n",
    "  \n",
    "The Puls Potential becomes (in Rydberg units):  \n",
    "\\begin{equation}\n",
    "V(\\rho_h) = \\frac{-2}{\\rho_h}[1 - 2e^{-2\\rho_h a_A/a_e}(1+\\rho_h a_A/a_e)] \\\\\n",
    "\\end{equation}\n",
    "  \n",
    "\\begin{equation}\n",
    "V(\\rho_h) = \\frac{-2}{\\rho_h}[1 - 2e^{-2\\rho_h m_e/(Km_h)}(1+\\rho_h m_e/(Km_h))] \\\\\n",
    "\\end{equation}\n",
    "    \n",
    "where:  \n",
    "  \n",
    "$m_e$ = 0.28  \n",
    "$m_h$ = 0.59  \n",
    "K = 1.24 for the best agreement in Matt Frick's data\n",
    "  \n",
    "  \n",
    "Finally to convert the energies (in acceptor Rydbergs just after calculations) to eV:\n",
    "  \n",
    "\\begin{equation}\n",
    "Ry_h = \\frac{m_h}{m_e}\\frac{m_e}{\\epsilon^2}Ry = \\frac{0.59}{8.5^2}(13.6~eV) = 0.111~eV\n",
    "\\end{equation}\n",
    "  \n",
    "where  \n",
    "\\begin{equation}\n",
    "\\frac{m_e}{\\epsilon^2} \n",
    "\\end{equation}  \n",
    "  \n",
    "is the convert $Ry_e$ to effective Rydbergs.  \n",
    "  \n",
    "Note that the x axis for the following graphs are in hole bohr radii. "
   ]
  },
  {
   "cell_type": "markdown",
   "metadata": {},
   "source": [
    "!!!!!! Please do not run the code section immediately below. It will take a long time to run. Skip to later sections to run if you need to. "
   ]
  },
  {
   "cell_type": "code",
   "execution_count": 28,
   "metadata": {
    "scrolled": false
   },
   "outputs": [
    {
     "name": "stdout",
     "output_type": "stream",
     "text": [
      "**************************n =  0  l =  0  K = 1.24 ***************************************\n",
      "bisection next step\n",
      "EigenEnergy is  -0.24131183665991873 !!!!!!!!!!!!!!!\n",
      "**************************n =  1  l =  0  K = 1.24 ***************************************\n",
      "bisection next step\n",
      "EigenEnergy is  -0.11238894199038585 !!!!!!!!!!!!!!!\n",
      "**************************n =  2  l =  0  K = 1.24 ***************************************\n",
      "bisection next step\n",
      "EigenEnergy is  -0.063483648185025 !!!!!!!!!!!!!!!\n",
      "**************************n =  0  l =  1  K = 1.24 ***************************************\n",
      "bisection next step\n",
      "EigenEnergy is  -0.1701591218980133 !!!!!!!!!!!!!!!\n",
      "**************************n =  1  l =  1  K = 1.24 ***************************************\n",
      "bisection next step\n",
      "EigenEnergy is  -0.08551990372285906 !!!!!!!!!!!!!!!\n",
      "**************************n =  2  l =  1  K = 1.24 ***************************************\n",
      "bisection next step\n",
      "EigenEnergy is  -0.0512045305044046 !!!!!!!!!!!!!!!\n",
      "**************************n =  0  l =  2  K = 1.24 ***************************************\n",
      "bisection next step\n",
      "EigenEnergy is  -0.1033564100416482 !!!!!!!!!!!!!!!\n",
      "**************************n =  1  l =  2  K = 1.24 ***************************************\n",
      "bisection next step\n",
      "EigenEnergy is  -0.058762635686806314 !!!!!!!!!!!!!!!\n",
      "**************************n =  2  l =  2  K = 1.24 ***************************************\n",
      "bisection next step\n",
      "EigenEnergy is  -0.03797788356777773 !!!!!!!!!!!!!!!\n",
      "[-0.24131183665991873, -0.11238894199038585, -0.063483648185025, -0.1701591218980133, -0.08551990372285906, -0.0512045305044046, -0.1033564100416482, -0.058762635686806314, -0.03797788356777773]\n",
      "0\n",
      "[[-0.24131184 -0.11238894 -0.06348365 -0.17015912 -0.0855199  -0.05120453\n",
      "  -0.10335641 -0.05876264 -0.03797788]\n",
      " [ 0.          0.          0.          0.          0.          0.\n",
      "   0.          0.          0.        ]\n",
      " [ 0.          0.          0.          0.          0.          0.\n",
      "   0.          0.          0.        ]\n",
      " [ 0.          0.          0.          0.          0.          0.\n",
      "   0.          0.          0.        ]\n",
      " [ 0.          0.          0.          0.          0.          0.\n",
      "   0.          0.          0.        ]\n",
      " [ 0.          0.          0.          0.          0.          0.\n",
      "   0.          0.          0.        ]\n",
      " [ 0.          0.          0.          0.          0.          0.\n",
      "   0.          0.          0.        ]\n",
      " [ 0.          0.          0.          0.          0.          0.\n",
      "   0.          0.          0.        ]\n",
      " [ 0.          0.          0.          0.          0.          0.\n",
      "   0.          0.          0.        ]\n",
      " [ 0.          0.          0.          0.          0.          0.\n",
      "   0.          0.          0.        ]]\n"
     ]
    }
   ],
   "source": [
    "# import packages\n",
    "import numpy as np\n",
    "import matplotlib.pyplot as plt\n",
    "# Alias scipy as sp\n",
    "import scipy as sp\n",
    "# scipy.optimize for the curve_fit function\n",
    "import scipy.optimize\n",
    "import math\n",
    "\n",
    "# define rho\n",
    "totrho = 2000\n",
    "rho_min = 0\n",
    "rho_max = 100\n",
    "rho = np.linspace(rho_min, rho_max, totrho)\n",
    "\n",
    "def PulsV(r, K):\n",
    "    mh = 0.59\n",
    "    me = 0.28\n",
    "    return -2/r*(1-2*np.exp(-2*r*me/(K*mh))*(1+r*me/(K*mh)))\n",
    "\n",
    "def Verlet(epsilon, l, K):\n",
    "    # defining rho range\n",
    "    totrho = 2000\n",
    "    rho_min = 0\n",
    "    rho_max = 100\n",
    "    rho = np.linspace(rho_min, rho_max, totrho)\n",
    "    drho = (rho_max)/(totrho)\n",
    "    \n",
    "    # initialize a zero list of the wavefunction of length rho\n",
    "    length = totrho\n",
    "    f = [0]*length\n",
    "   \n",
    "    # set the end values of f; mind the indexing \n",
    "    f[length - 1] = 0\n",
    "    f[length - 2] = 10**-10\n",
    "    \n",
    "    for i in range(length-2, 0, -1):\n",
    "        f[i-1] = 2*f[i] - f[i+1] + drho**2*(-epsilon + PulsV(rho[i], K) + l*(l+1)/(rho[i]**2))*f[i]\n",
    "    \n",
    "    A = sum([x**2 for x in f])\n",
    "    f = f/np.sqrt(A)\n",
    "    return f # rho*psi \n",
    "\n",
    "# Begin main - Shooting/Bisection\n",
    "\n",
    "# Allocate variable to hold solution\n",
    "\n",
    "En = [0]*9\n",
    "f_nl = [[0 for x in range(totrho)] for y in range(9)]\n",
    "\n",
    "Etot = [0]*10\n",
    "for i in range(10): # number of K iterations \n",
    "    for j in range(8): # number of energy levels for each K -1\n",
    "        Etot[i] = np.append(Etot[i], [0]) # creating a position for each eigenvalue\n",
    "    Etot[i] = [float(x) for x in Etot[i]]\n",
    "    \n",
    "Etot = np.array(Etot)\n",
    "\n",
    "\n",
    "# Allocate variable to hold the difference between solution and BC\n",
    "delta = [0]*2\n",
    "\n",
    "# Define initial guess and increments\n",
    "E1 = -1.1 \n",
    "dE = 0.001\n",
    "E2 = E1 + dE\n",
    "\n",
    "# Define boundary condition \n",
    "BC_0 = 0\n",
    "\n",
    "# Define tolerances\n",
    "tolerance_min = 10**-10\n",
    "\n",
    "# set up boolean \n",
    "Bisecting = False\n",
    "\n",
    "# keeping track of the number of solutions\n",
    "\n",
    "#K = np.linspace(1.23,1.33,10) CHANGE THIS \n",
    "K = [1.24]\n",
    "\n",
    "for index in range(len(K)):\n",
    "    count = 0\n",
    "    for l in range(3):\n",
    "    \n",
    "        for n in range(3):\n",
    "\n",
    "        \n",
    "            # Calculate the wavefunction with initial guess\n",
    "            f = Verlet(E1, l, K[index])\n",
    "        \n",
    "            # Define the difference between required BC and our extrapolated BC\n",
    "            delta[0] = f[0] - BC_0\n",
    "            print('**************************n = ', n, ' l = ', l, ' K =', K[index], '***************************************')\n",
    "\n",
    "            for i in range(10**6):\n",
    "    \n",
    "                #print('****** iteration', i)\n",
    "                #print('n = ', n, ' l = ', l)\n",
    "            \n",
    "                # set up for E variables for iterations (incrementing energies)\n",
    "                if not Bisecting:\n",
    "                    E = E2\n",
    "                \n",
    "                if Bisecting:\n",
    "                    E = 0.5*(E1 + E2)\n",
    "                    #print('Bisecting') \n",
    "            \n",
    "                #if n == 5 and l == 2:\n",
    "                    #print('E1, E2, and E are:')\n",
    "                    #print(E1, E2, E)\n",
    "                # Calculate the wavefunction again with E2\n",
    "                f = Verlet(E, l, K[index])\n",
    "            \n",
    "                # Define the difference between required BC and second extrapolated BC\n",
    "                delta[1] = f[0] - BC_0\n",
    "    \n",
    "                #if n == 5 and l == 2:\n",
    "                    #print('delta[0] and delta[1] are:')\n",
    "                    #print(delta[0], delta[1])\n",
    "    \n",
    "                if abs(delta[1]) < tolerance_min: # found answer\n",
    "                    count += 1\n",
    "                    En[count-1] = E\n",
    "                    f_nl[count-1][:] = f\n",
    "                    print('EigenEnergy is ', En[count-1], '!!!!!!!!!!!!!!!')\n",
    "                    #plt.plot(rho, f_nl[count-1][:], label = 'n = %.1f, l = %.1f' %(n, l))\n",
    "                    #plt.legend()\n",
    "                    #plt.show()\n",
    "                \n",
    "                    # prepare the E for the next energy eigenvalue\n",
    "                    if n != 2: # keeping the same l\n",
    "                        E1 = E + dE/1000\n",
    "                        E2 = E1 + dE\n",
    "                    \n",
    "                    #if n == 4 and l == 2:\n",
    "                        #E1 = E\n",
    "                        #E2 = E1 + 0.00001\n",
    "                \n",
    "                    if n == 2: # going onto next n, reseting E1 back to starting guess\n",
    "                        E1 = -1.1\n",
    "                        E2 = E1 + dE\n",
    "\n",
    "                \n",
    "                    # prepare boolean and continue iterative setup \n",
    "                    Bisecting = False \n",
    "                    break    \n",
    "        \n",
    "    \n",
    "                # Determine how to increment E in each case\n",
    "         \n",
    "                # If the last step was already a bisection (the next step will be too): change the energy variables\n",
    "                if Bisecting:\n",
    "                    if delta[0]*delta[1] > 0: # depends on which variable was the last to move\n",
    "                        if E2_moved == True:\n",
    "                            E2 = E\n",
    "                        else: \n",
    "                            E1 = E\n",
    "                            E2_moved = False\n",
    "                    else:\n",
    "                        if E2_moved == True:\n",
    "                            E1 = E\n",
    "                            E2_moved = False\n",
    "                        else: \n",
    "                            E2 = E\n",
    "                            E2_moved = True\n",
    "    \n",
    "                # If the last step was not a bisection but the next one requires one\n",
    "                if not Bisecting and delta[0]*delta[1] < 0:\n",
    "                    Bisecting = True\n",
    "                    E2 = E # will do first bisection at the beginning of the next iteration\n",
    "                    E2_moved = True\n",
    "                    print('bisection next step')\n",
    "        \n",
    "                # Turn Bisecting boolean to true if the two deltas straddle 0 \n",
    "        \n",
    "                if not Bisecting:\n",
    "                    E1 = E2\n",
    "                    E2 += dE\n",
    "                    #if n == 5 and l == 2:\n",
    "                        #print('no bisection')\n",
    "        \n",
    "                if i == 10**6:\n",
    "                    print('Max iterations reached, please change your initial guess.')\n",
    "                    break\n",
    "    \n",
    "                if E >= 0:\n",
    "                    print('No solution found - Solution greater than zero')\n",
    "                \n",
    "    \n",
    "        \n",
    "                # switch over the values to keep up with the energy steps\n",
    "                delta[0] = delta[1]    \n",
    "                #print(\"                    \")\n",
    "\n",
    "    print(En)\n",
    "    print(index)\n",
    "    #for index2 in range(9):\n",
    "        #Etot[index, index2] = En[index2]\n",
    "    Etot[index] = En    \n",
    "    print(Etot)"
   ]
  },
  {
   "cell_type": "code",
   "execution_count": 29,
   "metadata": {},
   "outputs": [
    {
     "name": "stdout",
     "output_type": "stream",
     "text": [
      "          0         1         2         3        4         5         6  \\\n",
      "0 -0.241312 -0.112389 -0.063484 -0.170159 -0.08552 -0.051205 -0.103356   \n",
      "1  0.000000  0.000000  0.000000  0.000000  0.00000  0.000000  0.000000   \n",
      "2  0.000000  0.000000  0.000000  0.000000  0.00000  0.000000  0.000000   \n",
      "3  0.000000  0.000000  0.000000  0.000000  0.00000  0.000000  0.000000   \n",
      "4  0.000000  0.000000  0.000000  0.000000  0.00000  0.000000  0.000000   \n",
      "5  0.000000  0.000000  0.000000  0.000000  0.00000  0.000000  0.000000   \n",
      "6  0.000000  0.000000  0.000000  0.000000  0.00000  0.000000  0.000000   \n",
      "7  0.000000  0.000000  0.000000  0.000000  0.00000  0.000000  0.000000   \n",
      "8  0.000000  0.000000  0.000000  0.000000  0.00000  0.000000  0.000000   \n",
      "9  0.000000  0.000000  0.000000  0.000000  0.00000  0.000000  0.000000   \n",
      "\n",
      "          7         8  \n",
      "0 -0.058763 -0.037978  \n",
      "1  0.000000  0.000000  \n",
      "2  0.000000  0.000000  \n",
      "3  0.000000  0.000000  \n",
      "4  0.000000  0.000000  \n",
      "5  0.000000  0.000000  \n",
      "6  0.000000  0.000000  \n",
      "7  0.000000  0.000000  \n",
      "8  0.000000  0.000000  \n",
      "9  0.000000  0.000000  \n",
      "0\t1\t2\t3\t4\t5\t6\t7\t8\n",
      "-0.24131183665991873\t-0.11238894199038585\t-0.063483648185025\t-0.1701591218980133\t-0.08551990372285906\t-0.0512045305044046\t-0.1033564100416482\t-0.058762635686806314\t-0.03797788356777773\n",
      "0.0\t0.0\t0.0\t0.0\t0.0\t0.0\t0.0\t0.0\t0.0\n",
      "0.0\t0.0\t0.0\t0.0\t0.0\t0.0\t0.0\t0.0\t0.0\n",
      "0.0\t0.0\t0.0\t0.0\t0.0\t0.0\t0.0\t0.0\t0.0\n",
      "0.0\t0.0\t0.0\t0.0\t0.0\t0.0\t0.0\t0.0\t0.0\n",
      "0.0\t0.0\t0.0\t0.0\t0.0\t0.0\t0.0\t0.0\t0.0\n",
      "0.0\t0.0\t0.0\t0.0\t0.0\t0.0\t0.0\t0.0\t0.0\n",
      "0.0\t0.0\t0.0\t0.0\t0.0\t0.0\t0.0\t0.0\t0.0\n",
      "0.0\t0.0\t0.0\t0.0\t0.0\t0.0\t0.0\t0.0\t0.0\n",
      "0.0\t0.0\t0.0\t0.0\t0.0\t0.0\t0.0\t0.0\t0.0\n",
      "\n"
     ]
    }
   ],
   "source": [
    "# RUN FROM HERE\n",
    "# Saving file\n",
    "\n",
    "import pandas as pd\n",
    "\n",
    "name_dict = Etot\n",
    "\n",
    "df = pd.DataFrame(name_dict)\n",
    "df.style.hide_index()\n",
    "print(df)\n",
    "df.to_csv('PulsEtot_K_1.24', index = False) # the other file is PulsEtot_K_0.1to2.8by0.3\n",
    "print(df.to_csv(sep='\\t', index=False))"
   ]
  },
  {
   "cell_type": "code",
   "execution_count": 30,
   "metadata": {},
   "outputs": [],
   "source": [
    "import pandas as pd\n",
    "import numpy as np\n",
    "df = pd.read_csv('PulsEtot_K_1.24')\n",
    "Etot = (np.array(df))"
   ]
  },
  {
   "cell_type": "code",
   "execution_count": 31,
   "metadata": {},
   "outputs": [
    {
     "name": "stdout",
     "output_type": "stream",
     "text": [
      "[[-0.24131184 -0.11238894 -0.06348365 -0.17015912 -0.0855199  -0.05120453\n",
      "  -0.10335641 -0.05876264 -0.03797788]\n",
      " [ 0.          0.          0.          0.          0.          0.\n",
      "   0.          0.          0.        ]\n",
      " [ 0.          0.          0.          0.          0.          0.\n",
      "   0.          0.          0.        ]\n",
      " [ 0.          0.          0.          0.          0.          0.\n",
      "   0.          0.          0.        ]\n",
      " [ 0.          0.          0.          0.          0.          0.\n",
      "   0.          0.          0.        ]\n",
      " [ 0.          0.          0.          0.          0.          0.\n",
      "   0.          0.          0.        ]\n",
      " [ 0.          0.          0.          0.          0.          0.\n",
      "   0.          0.          0.        ]\n",
      " [ 0.          0.          0.          0.          0.          0.\n",
      "   0.          0.          0.        ]\n",
      " [ 0.          0.          0.          0.          0.          0.\n",
      "   0.          0.          0.        ]\n",
      " [ 0.          0.          0.          0.          0.          0.\n",
      "   0.          0.          0.        ]]\n",
      "This is Edelta [[ 0.         14.31044131 19.73892892  7.89795134 17.29290456 21.10191098\n",
      "  15.31305235 20.26296131 22.57006879]\n",
      " [ 0.          0.          0.          0.          0.          0.\n",
      "   0.          0.          0.        ]\n",
      " [ 0.          0.          0.          0.          0.          0.\n",
      "   0.          0.          0.        ]\n",
      " [ 0.          0.          0.          0.          0.          0.\n",
      "   0.          0.          0.        ]\n",
      " [ 0.          0.          0.          0.          0.          0.\n",
      "   0.          0.          0.        ]\n",
      " [ 0.          0.          0.          0.          0.          0.\n",
      "   0.          0.          0.        ]\n",
      " [ 0.          0.          0.          0.          0.          0.\n",
      "   0.          0.          0.        ]\n",
      " [ 0.          0.          0.          0.          0.          0.\n",
      "   0.          0.          0.        ]\n",
      " [ 0.          0.          0.          0.          0.          0.\n",
      "   0.          0.          0.        ]\n",
      " [ 0.          0.          0.          0.          0.          0.\n",
      "   0.          0.          0.        ]]\n",
      "this is each energy level [[ 0.          0.          0.          0.          0.          0.\n",
      "   0.          0.          0.          0.        ]\n",
      " [14.31044131  0.          0.          0.          0.          0.\n",
      "   0.          0.          0.          0.        ]\n",
      " [19.73892892  0.          0.          0.          0.          0.\n",
      "   0.          0.          0.          0.        ]\n",
      " [ 7.89795134  0.          0.          0.          0.          0.\n",
      "   0.          0.          0.          0.        ]\n",
      " [17.29290456  0.          0.          0.          0.          0.\n",
      "   0.          0.          0.          0.        ]\n",
      " [21.10191098  0.          0.          0.          0.          0.\n",
      "   0.          0.          0.          0.        ]\n",
      " [15.31305235  0.          0.          0.          0.          0.\n",
      "   0.          0.          0.          0.        ]\n",
      " [20.26296131  0.          0.          0.          0.          0.\n",
      "   0.          0.          0.          0.        ]\n",
      " [22.57006879  0.          0.          0.          0.          0.\n",
      "   0.          0.          0.          0.        ]]\n",
      "[[ 0.          0.          0.          0.          0.          0.\n",
      "   0.          0.          0.          0.        ]\n",
      " [ 7.89795134  0.          0.          0.          0.          0.\n",
      "   0.          0.          0.          0.        ]\n",
      " [15.31305235  0.          0.          0.          0.          0.\n",
      "   0.          0.          0.          0.        ]\n",
      " [14.31044131  0.          0.          0.          0.          0.\n",
      "   0.          0.          0.          0.        ]\n",
      " [17.29290456  0.          0.          0.          0.          0.\n",
      "   0.          0.          0.          0.        ]\n",
      " [20.26296131  0.          0.          0.          0.          0.\n",
      "   0.          0.          0.          0.        ]\n",
      " [19.73892892  0.          0.          0.          0.          0.\n",
      "   0.          0.          0.          0.        ]\n",
      " [21.10191098  0.          0.          0.          0.          0.\n",
      "   0.          0.          0.          0.        ]\n",
      " [22.57006879  0.          0.          0.          0.          0.\n",
      "   0.          0.          0.          0.        ]]\n"
     ]
    }
   ],
   "source": [
    "print(Etot)\n",
    "\n",
    "Etot1 = [x*0.111*1000 for x in Etot] # in meV now\n",
    "\n",
    "# create nested list to hold the delta\n",
    "Edelta = [0]*10\n",
    "for i in range(10): # number of K iterations \n",
    "    for j in range(8): # number of energy levels for each K -1\n",
    "        Edelta[i] = np.append(Edelta[i], [0]) # creating a position for each eigenvalue\n",
    "    Edelta[i] = [float(x) for x in Edelta[i]]\n",
    "    \n",
    "Edelta = np.array(Edelta)\n",
    "\n",
    "for i in range(10):\n",
    "    for j in range(9):\n",
    "        Edelta[i][j] = Etot1[i][j] - Etot1[i][0] \n",
    "\n",
    "print(\"This is Edelta\", Edelta)\n",
    "\n",
    "# reorganize into lists holding the same orbit\n",
    "\n",
    "Edelta_varyK = [0]*9 # each energy level will have its own list\n",
    "for i in range(9): # number of energy levels for each K\n",
    "    for j in range(9): # number of K iterations -1\n",
    "        Edelta_varyK[i] = np.append(Edelta_varyK[i], [0]) # creating a position for each eigenvalue\n",
    "    Edelta_varyK[i] = [float(x) for x in Edelta_varyK[i]]\n",
    "    \n",
    "Edelta_varyK = np.array(Edelta_varyK)\n",
    "\n",
    "for i in range(9):\n",
    "    for j in range(10):\n",
    "        Edelta_varyK[i][j] = Edelta[j][i]\n",
    "\n",
    "print('this is each energy level', Edelta_varyK)\n",
    "\n",
    "Edelta_order = [0]*9 # each energy level will have its own list\n",
    "for i in range(9): # number of energy levels for each K\n",
    "    for j in range(9): # number of K iterations -1\n",
    "        Edelta_order[i] = np.append(Edelta_order[i], [0]) # creating a position for each eigenvalue\n",
    "    Edelta_order[i] = [float(x) for x in Edelta_order[i]]\n",
    "    \n",
    "Edelta_order = np.array(Edelta_order)\n",
    "\n",
    "\n",
    "Edelta_order[0] = Edelta_varyK[0]\n",
    "Edelta_order[1] = Edelta_varyK[3]\n",
    "Edelta_order[2] = Edelta_varyK[6]\n",
    "Edelta_order[3] = Edelta_varyK[1]\n",
    "Edelta_order[4] = Edelta_varyK[4]\n",
    "Edelta_order[5] = Edelta_varyK[7]\n",
    "Edelta_order[6] = Edelta_varyK[2]\n",
    "Edelta_order[7] = Edelta_varyK[5]\n",
    "Edelta_order[8] = Edelta_varyK[8]\n",
    "\n",
    "print(Edelta_order)"
   ]
  },
  {
   "cell_type": "code",
   "execution_count": 32,
   "metadata": {},
   "outputs": [
    {
     "data": {
      "image/png": "[encoded data removed]",
      "text/plain": [
       "<Figure size 432x288 with 1 Axes>"
      ]
     },
     "metadata": {
      "needs_background": "light"
     },
     "output_type": "display_data"
    }
   ],
   "source": [
    "# plotting\n",
    "import matplotlib.pyplot as plt\n",
    "import matplotlib.colors as mcolors\n",
    "import numpy as np\n",
    "\n",
    "K = np.linspace(0.1,2.8,10) \n",
    "\n",
    "gr = [-16.04+16.04]*len(K)\n",
    "ex1 = [-9.53+16.04]*len(K)\n",
    "ex2 = [-7.21+16.04]*len(K)\n",
    "ex3 = [-5.4+16.04]*len(K)\n",
    "ex4 = [-3.74+16.04]*len(K)\n",
    "ex5 = [-1.39+16.04]*len(K)\n",
    "ex6 = [0+16.04]*len(K)\n",
    "\n",
    "fig = plt.figure()\n",
    "ax = plt.subplot(111)\n",
    "\n",
    "data = [gr, ex1, ex2, ex3, ex4, ex5, ex6]\n",
    "for i in range(len(data)):\n",
    "    plt.plot(K, data[i], color = 'k')\n",
    "\n",
    "lbel = ['n = 0, l = 0', 'n = 0, l = 1', 'n = 0, l = 2', 'n = 1, l = 0', 'n = 1, l = 1', 'n = 1, l = 2', 'n = 2, l = 0', 'n = 2, l = 1', 'n = 2, l = 2']\n",
    "clor = ['green', 'mediumseagreen', 'greenyellow', 'maroon', 'indianred', 'lightcoral', 'blue', 'aqua', 'k']\n",
    "\n",
    "for i in range(9):\n",
    "    ax.plot(K, Edelta_order[i], 'o', label = lbel[i], color = clor[i])\n",
    "plt.xlim(0.1, 2.9)\n",
    "plt.ylim(0, 40)\n",
    "ax.legend(bbox_to_anchor=(1.1, 1.05))\n",
    "plt.ylabel(\"$\\Delta$ E (meV)\")\n",
    "plt.xlabel('K')\n",
    "plt.savefig('PulsGa_K1.23_to_1.33wLegendMattStyle.png')\n",
    "plt.show()"
   ]
  },
  {
   "cell_type": "code",
   "execution_count": 34,
   "metadata": {},
   "outputs": [
    {
     "data": {
      "application/vnd.plotly.v1+json": {
       "config": {
        "plotlyServerURL": "https://plot.ly"
       },
       "data": [
        {
         "cells": {
          "values": [
           [
            "0",
            "",
            "",
            "1",
            "",
            "",
            "2",
            "",
            ""
           ],
           [
            "0",
            "1",
            "2",
            "0",
            "1",
            "2",
            "0",
            "1",
            "2"
           ],
           [
            0,
            7.69231,
            15,
            14.23077,
            17.30769,
            20,
            19.61538,
            21.15385,
            22.30769
           ],
           [
            0,
            7.89795,
            15.31305,
            14.31044,
            17.2929,
            20.26296,
            19.73893,
            21.10191,
            22.57007
           ],
           [
            0,
            0.20564,
            0.31305,
            0.07967,
            -0.01479,
            0.26296,
            0.12355,
            -0.05194,
            0.26238
           ],
           [
            2,
            4.5,
            8,
            11,
            14.33333,
            17.5,
            20.83333
           ],
           [
            0,
            6.51,
            8.83,
            10.64,
            12.3,
            14.65,
            16.04
           ]
          ]
         },
         "header": {
          "values": [
           "1st quantum number n",
           "2nd quantum number l",
           "Matt Graph Calc EigenEnergy K = 1.24",
           "Our Calc EigenEnergy K = 1.24",
           "Delta b/w Matt Graph and Our Calc",
           "Matt Graph Experimental Energy",
           "Dr Watkins Experimental for Ga"
          ]
         },
         "type": "table"
        }
       ],
       "layout": {
        "template": {
         "data": {
          "bar": [
           {
            "error_x": {
             "color": "#2a3f5f"
            },
            "error_y": {
             "color": "#2a3f5f"
            },
            "marker": {
             "line": {
              "color": "#E5ECF6",
              "width": 0.5
             }
            },
            "type": "bar"
           }
          ],
          "barpolar": [
           {
            "marker": {
             "line": {
              "color": "#E5ECF6",
              "width": 0.5
             }
            },
            "type": "barpolar"
           }
          ],
          "carpet": [
           {
            "aaxis": {
             "endlinecolor": "#2a3f5f",
             "gridcolor": "white",
             "linecolor": "white",
             "minorgridcolor": "white",
             "startlinecolor": "#2a3f5f"
            },
            "baxis": {
             "endlinecolor": "#2a3f5f",
             "gridcolor": "white",
             "linecolor": "white",
             "minorgridcolor": "white",
             "startlinecolor": "#2a3f5f"
            },
            "type": "carpet"
           }
          ],
          "choropleth": [
           {
            "colorbar": {
             "outlinewidth": 0,
             "ticks": ""
            },
            "type": "choropleth"
           }
          ],
          "contour": [
           {
            "colorbar": {
             "outlinewidth": 0,
             "ticks": ""
            },
            "colorscale": [
             [
              0,
              "#0d0887"
             ],
             [
              0.1111111111111111,
              "#46039f"
             ],
             [
              0.2222222222222222,
              "#7201a8"
             ],
             [
              0.3333333333333333,
              "#9c179e"
             ],
             [
              0.4444444444444444,
              "#bd3786"
             ],
             [
              0.5555555555555556,
              "#d8576b"
             ],
             [
              0.6666666666666666,
              "#ed7953"
             ],
             [
              0.7777777777777778,
              "#fb9f3a"
             ],
             [
              0.8888888888888888,
              "#fdca26"
             ],
             [
              1,
              "#f0f921"
             ]
            ],
            "type": "contour"
           }
          ],
          "contourcarpet": [
           {
            "colorbar": {
             "outlinewidth": 0,
             "ticks": ""
            },
            "type": "contourcarpet"
           }
          ],
          "heatmap": [
           {
            "colorbar": {
             "outlinewidth": 0,
             "ticks": ""
            },
            "colorscale": [
             [
              0,
              "#0d0887"
             ],
             [
              0.1111111111111111,
              "#46039f"
             ],
             [
              0.2222222222222222,
              "#7201a8"
             ],
             [
              0.3333333333333333,
              "#9c179e"
             ],
             [
              0.4444444444444444,
              "#bd3786"
             ],
             [
              0.5555555555555556,
              "#d8576b"
             ],
             [
              0.6666666666666666,
              "#ed7953"
             ],
             [
              0.7777777777777778,
              "#fb9f3a"
             ],
             [
              0.8888888888888888,
              "#fdca26"
             ],
             [
              1,
              "#f0f921"
             ]
            ],
            "type": "heatmap"
           }
          ],
          "heatmapgl": [
           {
            "colorbar": {
             "outlinewidth": 0,
             "ticks": ""
            },
            "colorscale": [
             [
              0,
              "#0d0887"
             ],
             [
              0.1111111111111111,
              "#46039f"
             ],
             [
              0.2222222222222222,
              "#7201a8"
             ],
             [
              0.3333333333333333,
              "#9c179e"
             ],
             [
              0.4444444444444444,
              "#bd3786"
             ],
             [
              0.5555555555555556,
              "#d8576b"
             ],
             [
              0.6666666666666666,
              "#ed7953"
             ],
             [
              0.7777777777777778,
              "#fb9f3a"
             ],
             [
              0.8888888888888888,
              "#fdca26"
             ],
             [
              1,
              "#f0f921"
             ]
            ],
            "type": "heatmapgl"
           }
          ],
          "histogram": [
           {
            "marker": {
             "colorbar": {
              "outlinewidth": 0,
              "ticks": ""
             }
            },
            "type": "histogram"
           }
          ],
          "histogram2d": [
           {
            "colorbar": {
             "outlinewidth": 0,
             "ticks": ""
            },
            "colorscale": [
             [
              0,
              "#0d0887"
             ],
             [
              0.1111111111111111,
              "#46039f"
             ],
             [
              0.2222222222222222,
              "#7201a8"
             ],
             [
              0.3333333333333333,
              "#9c179e"
             ],
             [
              0.4444444444444444,
              "#bd3786"
             ],
             [
              0.5555555555555556,
              "#d8576b"
             ],
             [
              0.6666666666666666,
              "#ed7953"
             ],
             [
              0.7777777777777778,
              "#fb9f3a"
             ],
             [
              0.8888888888888888,
              "#fdca26"
             ],
             [
              1,
              "#f0f921"
             ]
            ],
            "type": "histogram2d"
           }
          ],
          "histogram2dcontour": [
           {
            "colorbar": {
             "outlinewidth": 0,
             "ticks": ""
            },
            "colorscale": [
             [
              0,
              "#0d0887"
             ],
             [
              0.1111111111111111,
              "#46039f"
             ],
             [
              0.2222222222222222,
              "#7201a8"
             ],
             [
              0.3333333333333333,
              "#9c179e"
             ],
             [
              0.4444444444444444,
              "#bd3786"
             ],
             [
              0.5555555555555556,
              "#d8576b"
             ],
             [
              0.6666666666666666,
              "#ed7953"
             ],
             [
              0.7777777777777778,
              "#fb9f3a"
             ],
             [
              0.8888888888888888,
              "#fdca26"
             ],
             [
              1,
              "#f0f921"
             ]
            ],
            "type": "histogram2dcontour"
           }
          ],
          "mesh3d": [
           {
            "colorbar": {
             "outlinewidth": 0,
             "ticks": ""
            },
            "type": "mesh3d"
           }
          ],
          "parcoords": [
           {
            "line": {
             "colorbar": {
              "outlinewidth": 0,
              "ticks": ""
             }
            },
            "type": "parcoords"
           }
          ],
          "pie": [
           {
            "automargin": true,
            "type": "pie"
           }
          ],
          "scatter": [
           {
            "marker": {
             "colorbar": {
              "outlinewidth": 0,
              "ticks": ""
             }
            },
            "type": "scatter"
           }
          ],
          "scatter3d": [
           {
            "line": {
             "colorbar": {
              "outlinewidth": 0,
              "ticks": ""
             }
            },
            "marker": {
             "colorbar": {
              "outlinewidth": 0,
              "ticks": ""
             }
            },
            "type": "scatter3d"
           }
          ],
          "scattercarpet": [
           {
            "marker": {
             "colorbar": {
              "outlinewidth": 0,
              "ticks": ""
             }
            },
            "type": "scattercarpet"
           }
          ],
          "scattergeo": [
           {
            "marker": {
             "colorbar": {
              "outlinewidth": 0,
              "ticks": ""
             }
            },
            "type": "scattergeo"
           }
          ],
          "scattergl": [
           {
            "marker": {
             "colorbar": {
              "outlinewidth": 0,
              "ticks": ""
             }
            },
            "type": "scattergl"
           }
          ],
          "scattermapbox": [
           {
            "marker": {
             "colorbar": {
              "outlinewidth": 0,
              "ticks": ""
             }
            },
            "type": "scattermapbox"
           }
          ],
          "scatterpolar": [
           {
            "marker": {
             "colorbar": {
              "outlinewidth": 0,
              "ticks": ""
             }
            },
            "type": "scatterpolar"
           }
          ],
          "scatterpolargl": [
           {
            "marker": {
             "colorbar": {
              "outlinewidth": 0,
              "ticks": ""
             }
            },
            "type": "scatterpolargl"
           }
          ],
          "scatterternary": [
           {
            "marker": {
             "colorbar": {
              "outlinewidth": 0,
              "ticks": ""
             }
            },
            "type": "scatterternary"
           }
          ],
          "surface": [
           {
            "colorbar": {
             "outlinewidth": 0,
             "ticks": ""
            },
            "colorscale": [
             [
              0,
              "#0d0887"
             ],
             [
              0.1111111111111111,
              "#46039f"
             ],
             [
              0.2222222222222222,
              "#7201a8"
             ],
             [
              0.3333333333333333,
              "#9c179e"
             ],
             [
              0.4444444444444444,
              "#bd3786"
             ],
             [
              0.5555555555555556,
              "#d8576b"
             ],
             [
              0.6666666666666666,
              "#ed7953"
             ],
             [
              0.7777777777777778,
              "#fb9f3a"
             ],
             [
              0.8888888888888888,
              "#fdca26"
             ],
             [
              1,
              "#f0f921"
             ]
            ],
            "type": "surface"
           }
          ],
          "table": [
           {
            "cells": {
             "fill": {
              "color": "#EBF0F8"
             },
             "line": {
              "color": "white"
             }
            },
            "header": {
             "fill": {
              "color": "#C8D4E3"
             },
             "line": {
              "color": "white"
             }
            },
            "type": "table"
           }
          ]
         },
         "layout": {
          "annotationdefaults": {
           "arrowcolor": "#2a3f5f",
           "arrowhead": 0,
           "arrowwidth": 1
          },
          "coloraxis": {
           "colorbar": {
            "outlinewidth": 0,
            "ticks": ""
           }
          },
          "colorscale": {
           "diverging": [
            [
             0,
             "#8e0152"
            ],
            [
             0.1,
             "#c51b7d"
            ],
            [
             0.2,
             "#de77ae"
            ],
            [
             0.3,
             "#f1b6da"
            ],
            [
             0.4,
             "#fde0ef"
            ],
            [
             0.5,
             "#f7f7f7"
            ],
            [
             0.6,
             "#e6f5d0"
            ],
            [
             0.7,
             "#b8e186"
            ],
            [
             0.8,
             "#7fbc41"
            ],
            [
             0.9,
             "#4d9221"
            ],
            [
             1,
             "#276419"
            ]
           ],
           "sequential": [
            [
             0,
             "#0d0887"
            ],
            [
             0.1111111111111111,
             "#46039f"
            ],
            [
             0.2222222222222222,
             "#7201a8"
            ],
            [
             0.3333333333333333,
             "#9c179e"
            ],
            [
             0.4444444444444444,
             "#bd3786"
            ],
            [
             0.5555555555555556,
             "#d8576b"
            ],
            [
             0.6666666666666666,
             "#ed7953"
            ],
            [
             0.7777777777777778,
             "#fb9f3a"
            ],
            [
             0.8888888888888888,
             "#fdca26"
            ],
            [
             1,
             "#f0f921"
            ]
           ],
           "sequentialminus": [
            [
             0,
             "#0d0887"
            ],
            [
             0.1111111111111111,
             "#46039f"
            ],
            [
             0.2222222222222222,
             "#7201a8"
            ],
            [
             0.3333333333333333,
             "#9c179e"
            ],
            [
             0.4444444444444444,
             "#bd3786"
            ],
            [
             0.5555555555555556,
             "#d8576b"
            ],
            [
             0.6666666666666666,
             "#ed7953"
            ],
            [
             0.7777777777777778,
             "#fb9f3a"
            ],
            [
             0.8888888888888888,
             "#fdca26"
            ],
            [
             1,
             "#f0f921"
            ]
           ]
          },
          "colorway": [
           "#636efa",
           "#EF553B",
           "#00cc96",
           "#ab63fa",
           "#FFA15A",
           "#19d3f3",
           "#FF6692",
           "#B6E880",
           "#FF97FF",
           "#FECB52"
          ],
          "font": {
           "color": "#2a3f5f"
          },
          "geo": {
           "bgcolor": "white",
           "lakecolor": "white",
           "landcolor": "#E5ECF6",
           "showlakes": true,
           "showland": true,
           "subunitcolor": "white"
          },
          "hoverlabel": {
           "align": "left"
          },
          "hovermode": "closest",
          "mapbox": {
           "style": "light"
          },
          "paper_bgcolor": "white",
          "plot_bgcolor": "#E5ECF6",
          "polar": {
           "angularaxis": {
            "gridcolor": "white",
            "linecolor": "white",
            "ticks": ""
           },
           "bgcolor": "#E5ECF6",
           "radialaxis": {
            "gridcolor": "white",
            "linecolor": "white",
            "ticks": ""
           }
          },
          "scene": {
           "xaxis": {
            "backgroundcolor": "#E5ECF6",
            "gridcolor": "white",
            "gridwidth": 2,
            "linecolor": "white",
            "showbackground": true,
            "ticks": "",
            "zerolinecolor": "white"
           },
           "yaxis": {
            "backgroundcolor": "#E5ECF6",
            "gridcolor": "white",
            "gridwidth": 2,
            "linecolor": "white",
            "showbackground": true,
            "ticks": "",
            "zerolinecolor": "white"
           },
           "zaxis": {
            "backgroundcolor": "#E5ECF6",
            "gridcolor": "white",
            "gridwidth": 2,
            "linecolor": "white",
            "showbackground": true,
            "ticks": "",
            "zerolinecolor": "white"
           }
          },
          "shapedefaults": {
           "line": {
            "color": "#2a3f5f"
           }
          },
          "ternary": {
           "aaxis": {
            "gridcolor": "white",
            "linecolor": "white",
            "ticks": ""
           },
           "baxis": {
            "gridcolor": "white",
            "linecolor": "white",
            "ticks": ""
           },
           "bgcolor": "#E5ECF6",
           "caxis": {
            "gridcolor": "white",
            "linecolor": "white",
            "ticks": ""
           }
          },
          "title": {
           "x": 0.05
          },
          "xaxis": {
           "automargin": true,
           "gridcolor": "white",
           "linecolor": "white",
           "ticks": "",
           "title": {
            "standoff": 15
           },
           "zerolinecolor": "white",
           "zerolinewidth": 2
          },
          "yaxis": {
           "automargin": true,
           "gridcolor": "white",
           "linecolor": "white",
           "ticks": "",
           "title": {
            "standoff": 15
           },
           "zerolinecolor": "white",
           "zerolinewidth": 2
          }
         }
        }
       }
      },
      "text/html": [
       "<div>\n",
       "        \n",
       "        \n",
       "            <div id=\"db93c147-f419-48f4-81af-ba5fdfc8c2ef\" class=\"plotly-graph-div\" style=\"height:525px; width:100%;\"></div>\n",
       "            <script type=\"text/javascript\">\n",
       "                require([\"plotly\"], function(Plotly) {\n",
       "                    window.PLOTLYENV=window.PLOTLYENV || {};\n",
       "                    \n",
       "                if (document.getElementById(\"db93c147-f419-48f4-81af-ba5fdfc8c2ef\")) {\n",
       "                    Plotly.newPlot(\n",
       "                        'db93c147-f419-48f4-81af-ba5fdfc8c2ef',\n",
       "                        [{\"cells\": {\"values\": [[\"0\", \"\", \"\", \"1\", \"\", \"\", \"2\", \"\", \"\"], [\"0\", \"1\", \"2\", \"0\", \"1\", \"2\", \"0\", \"1\", \"2\"], [0.0, 7.69231, 15.0, 14.23077, 17.30769, 20.0, 19.61538, 21.15385, 22.30769], [0.0, 7.89795, 15.31305, 14.31044, 17.2929, 20.26296, 19.73893, 21.10191, 22.57007], [0.0, 0.20564, 0.31305, 0.07967, -0.01479, 0.26296, 0.12355, -0.05194, 0.26238], [2.0, 4.5, 8.0, 11.0, 14.33333, 17.5, 20.83333], [0.0, 6.51, 8.83, 10.64, 12.3, 14.65, 16.04]]}, \"header\": {\"values\": [\"1st quantum number n\", \"2nd quantum number l\", \"Matt Graph Calc EigenEnergy K = 1.24\", \"Our Calc EigenEnergy K = 1.24\", \"Delta b/w Matt Graph and Our Calc\", \"Matt Graph Experimental Energy\", \"Dr Watkins Experimental for Ga\"]}, \"type\": \"table\"}],\n",
       "                        {\"template\": {\"data\": {\"bar\": [{\"error_x\": {\"color\": \"#2a3f5f\"}, \"error_y\": {\"color\": \"#2a3f5f\"}, \"marker\": {\"line\": {\"color\": \"#E5ECF6\", \"width\": 0.5}}, \"type\": \"bar\"}], \"barpolar\": [{\"marker\": {\"line\": {\"color\": \"#E5ECF6\", \"width\": 0.5}}, \"type\": \"barpolar\"}], \"carpet\": [{\"aaxis\": {\"endlinecolor\": \"#2a3f5f\", \"gridcolor\": \"white\", \"linecolor\": \"white\", \"minorgridcolor\": \"white\", \"startlinecolor\": \"#2a3f5f\"}, \"baxis\": {\"endlinecolor\": \"#2a3f5f\", \"gridcolor\": \"white\", \"linecolor\": \"white\", \"minorgridcolor\": \"white\", \"startlinecolor\": \"#2a3f5f\"}, \"type\": \"carpet\"}], \"choropleth\": [{\"colorbar\": {\"outlinewidth\": 0, \"ticks\": \"\"}, \"type\": \"choropleth\"}], \"contour\": [{\"colorbar\": {\"outlinewidth\": 0, \"ticks\": \"\"}, \"colorscale\": [[0.0, \"#0d0887\"], [0.1111111111111111, \"#46039f\"], [0.2222222222222222, \"#7201a8\"], [0.3333333333333333, \"#9c179e\"], [0.4444444444444444, \"#bd3786\"], [0.5555555555555556, \"#d8576b\"], [0.6666666666666666, \"#ed7953\"], [0.7777777777777778, \"#fb9f3a\"], [0.8888888888888888, \"#fdca26\"], [1.0, \"#f0f921\"]], \"type\": \"contour\"}], \"contourcarpet\": [{\"colorbar\": {\"outlinewidth\": 0, \"ticks\": \"\"}, \"type\": \"contourcarpet\"}], \"heatmap\": [{\"colorbar\": {\"outlinewidth\": 0, \"ticks\": \"\"}, \"colorscale\": [[0.0, \"#0d0887\"], [0.1111111111111111, \"#46039f\"], [0.2222222222222222, \"#7201a8\"], [0.3333333333333333, \"#9c179e\"], [0.4444444444444444, \"#bd3786\"], [0.5555555555555556, \"#d8576b\"], [0.6666666666666666, \"#ed7953\"], [0.7777777777777778, \"#fb9f3a\"], [0.8888888888888888, \"#fdca26\"], [1.0, \"#f0f921\"]], \"type\": \"heatmap\"}], \"heatmapgl\": [{\"colorbar\": {\"outlinewidth\": 0, \"ticks\": \"\"}, \"colorscale\": [[0.0, \"#0d0887\"], [0.1111111111111111, \"#46039f\"], [0.2222222222222222, \"#7201a8\"], [0.3333333333333333, \"#9c179e\"], [0.4444444444444444, \"#bd3786\"], [0.5555555555555556, \"#d8576b\"], [0.6666666666666666, \"#ed7953\"], [0.7777777777777778, \"#fb9f3a\"], [0.8888888888888888, \"#fdca26\"], [1.0, \"#f0f921\"]], \"type\": \"heatmapgl\"}], \"histogram\": [{\"marker\": {\"colorbar\": {\"outlinewidth\": 0, \"ticks\": \"\"}}, \"type\": \"histogram\"}], \"histogram2d\": [{\"colorbar\": {\"outlinewidth\": 0, \"ticks\": \"\"}, \"colorscale\": [[0.0, \"#0d0887\"], [0.1111111111111111, \"#46039f\"], [0.2222222222222222, \"#7201a8\"], [0.3333333333333333, \"#9c179e\"], [0.4444444444444444, \"#bd3786\"], [0.5555555555555556, \"#d8576b\"], [0.6666666666666666, \"#ed7953\"], [0.7777777777777778, \"#fb9f3a\"], [0.8888888888888888, \"#fdca26\"], [1.0, \"#f0f921\"]], \"type\": \"histogram2d\"}], \"histogram2dcontour\": [{\"colorbar\": {\"outlinewidth\": 0, \"ticks\": \"\"}, \"colorscale\": [[0.0, \"#0d0887\"], [0.1111111111111111, \"#46039f\"], [0.2222222222222222, \"#7201a8\"], [0.3333333333333333, \"#9c179e\"], [0.4444444444444444, \"#bd3786\"], [0.5555555555555556, \"#d8576b\"], [0.6666666666666666, \"#ed7953\"], [0.7777777777777778, \"#fb9f3a\"], [0.8888888888888888, \"#fdca26\"], [1.0, \"#f0f921\"]], \"type\": \"histogram2dcontour\"}], \"mesh3d\": [{\"colorbar\": {\"outlinewidth\": 0, \"ticks\": \"\"}, \"type\": \"mesh3d\"}], \"parcoords\": [{\"line\": {\"colorbar\": {\"outlinewidth\": 0, \"ticks\": \"\"}}, \"type\": \"parcoords\"}], \"pie\": [{\"automargin\": true, \"type\": \"pie\"}], \"scatter\": [{\"marker\": {\"colorbar\": {\"outlinewidth\": 0, \"ticks\": \"\"}}, \"type\": \"scatter\"}], \"scatter3d\": [{\"line\": {\"colorbar\": {\"outlinewidth\": 0, \"ticks\": \"\"}}, \"marker\": {\"colorbar\": {\"outlinewidth\": 0, \"ticks\": \"\"}}, \"type\": \"scatter3d\"}], \"scattercarpet\": [{\"marker\": {\"colorbar\": {\"outlinewidth\": 0, \"ticks\": \"\"}}, \"type\": \"scattercarpet\"}], \"scattergeo\": [{\"marker\": {\"colorbar\": {\"outlinewidth\": 0, \"ticks\": \"\"}}, \"type\": \"scattergeo\"}], \"scattergl\": [{\"marker\": {\"colorbar\": {\"outlinewidth\": 0, \"ticks\": \"\"}}, \"type\": \"scattergl\"}], \"scattermapbox\": [{\"marker\": {\"colorbar\": {\"outlinewidth\": 0, \"ticks\": \"\"}}, \"type\": \"scattermapbox\"}], \"scatterpolar\": [{\"marker\": {\"colorbar\": {\"outlinewidth\": 0, \"ticks\": \"\"}}, \"type\": \"scatterpolar\"}], \"scatterpolargl\": [{\"marker\": {\"colorbar\": {\"outlinewidth\": 0, \"ticks\": \"\"}}, \"type\": \"scatterpolargl\"}], \"scatterternary\": [{\"marker\": {\"colorbar\": {\"outlinewidth\": 0, \"ticks\": \"\"}}, \"type\": \"scatterternary\"}], \"surface\": [{\"colorbar\": {\"outlinewidth\": 0, \"ticks\": \"\"}, \"colorscale\": [[0.0, \"#0d0887\"], [0.1111111111111111, \"#46039f\"], [0.2222222222222222, \"#7201a8\"], [0.3333333333333333, \"#9c179e\"], [0.4444444444444444, \"#bd3786\"], [0.5555555555555556, \"#d8576b\"], [0.6666666666666666, \"#ed7953\"], [0.7777777777777778, \"#fb9f3a\"], [0.8888888888888888, \"#fdca26\"], [1.0, \"#f0f921\"]], \"type\": \"surface\"}], \"table\": [{\"cells\": {\"fill\": {\"color\": \"#EBF0F8\"}, \"line\": {\"color\": \"white\"}}, \"header\": {\"fill\": {\"color\": \"#C8D4E3\"}, \"line\": {\"color\": \"white\"}}, \"type\": \"table\"}]}, \"layout\": {\"annotationdefaults\": {\"arrowcolor\": \"#2a3f5f\", \"arrowhead\": 0, \"arrowwidth\": 1}, \"coloraxis\": {\"colorbar\": {\"outlinewidth\": 0, \"ticks\": \"\"}}, \"colorscale\": {\"diverging\": [[0, \"#8e0152\"], [0.1, \"#c51b7d\"], [0.2, \"#de77ae\"], [0.3, \"#f1b6da\"], [0.4, \"#fde0ef\"], [0.5, \"#f7f7f7\"], [0.6, \"#e6f5d0\"], [0.7, \"#b8e186\"], [0.8, \"#7fbc41\"], [0.9, \"#4d9221\"], [1, \"#276419\"]], \"sequential\": [[0.0, \"#0d0887\"], [0.1111111111111111, \"#46039f\"], [0.2222222222222222, \"#7201a8\"], [0.3333333333333333, \"#9c179e\"], [0.4444444444444444, \"#bd3786\"], [0.5555555555555556, \"#d8576b\"], [0.6666666666666666, \"#ed7953\"], [0.7777777777777778, \"#fb9f3a\"], [0.8888888888888888, \"#fdca26\"], [1.0, \"#f0f921\"]], \"sequentialminus\": [[0.0, \"#0d0887\"], [0.1111111111111111, \"#46039f\"], [0.2222222222222222, \"#7201a8\"], [0.3333333333333333, \"#9c179e\"], [0.4444444444444444, \"#bd3786\"], [0.5555555555555556, \"#d8576b\"], [0.6666666666666666, \"#ed7953\"], [0.7777777777777778, \"#fb9f3a\"], [0.8888888888888888, \"#fdca26\"], [1.0, \"#f0f921\"]]}, \"colorway\": [\"#636efa\", \"#EF553B\", \"#00cc96\", \"#ab63fa\", \"#FFA15A\", \"#19d3f3\", \"#FF6692\", \"#B6E880\", \"#FF97FF\", \"#FECB52\"], \"font\": {\"color\": \"#2a3f5f\"}, \"geo\": {\"bgcolor\": \"white\", \"lakecolor\": \"white\", \"landcolor\": \"#E5ECF6\", \"showlakes\": true, \"showland\": true, \"subunitcolor\": \"white\"}, \"hoverlabel\": {\"align\": \"left\"}, \"hovermode\": \"closest\", \"mapbox\": {\"style\": \"light\"}, \"paper_bgcolor\": \"white\", \"plot_bgcolor\": \"#E5ECF6\", \"polar\": {\"angularaxis\": {\"gridcolor\": \"white\", \"linecolor\": \"white\", \"ticks\": \"\"}, \"bgcolor\": \"#E5ECF6\", \"radialaxis\": {\"gridcolor\": \"white\", \"linecolor\": \"white\", \"ticks\": \"\"}}, \"scene\": {\"xaxis\": {\"backgroundcolor\": \"#E5ECF6\", \"gridcolor\": \"white\", \"gridwidth\": 2, \"linecolor\": \"white\", \"showbackground\": true, \"ticks\": \"\", \"zerolinecolor\": \"white\"}, \"yaxis\": {\"backgroundcolor\": \"#E5ECF6\", \"gridcolor\": \"white\", \"gridwidth\": 2, \"linecolor\": \"white\", \"showbackground\": true, \"ticks\": \"\", \"zerolinecolor\": \"white\"}, \"zaxis\": {\"backgroundcolor\": \"#E5ECF6\", \"gridcolor\": \"white\", \"gridwidth\": 2, \"linecolor\": \"white\", \"showbackground\": true, \"ticks\": \"\", \"zerolinecolor\": \"white\"}}, \"shapedefaults\": {\"line\": {\"color\": \"#2a3f5f\"}}, \"ternary\": {\"aaxis\": {\"gridcolor\": \"white\", \"linecolor\": \"white\", \"ticks\": \"\"}, \"baxis\": {\"gridcolor\": \"white\", \"linecolor\": \"white\", \"ticks\": \"\"}, \"bgcolor\": \"#E5ECF6\", \"caxis\": {\"gridcolor\": \"white\", \"linecolor\": \"white\", \"ticks\": \"\"}}, \"title\": {\"x\": 0.05}, \"xaxis\": {\"automargin\": true, \"gridcolor\": \"white\", \"linecolor\": \"white\", \"ticks\": \"\", \"title\": {\"standoff\": 15}, \"zerolinecolor\": \"white\", \"zerolinewidth\": 2}, \"yaxis\": {\"automargin\": true, \"gridcolor\": \"white\", \"linecolor\": \"white\", \"ticks\": \"\", \"title\": {\"standoff\": 15}, \"zerolinecolor\": \"white\", \"zerolinewidth\": 2}}}},\n",
       "                        {\"responsive\": true}\n",
       "                    ).then(function(){\n",
       "                            \n",
       "var gd = document.getElementById('db93c147-f419-48f4-81af-ba5fdfc8c2ef');\n",
       "var x = new MutationObserver(function (mutations, observer) {{\n",
       "        var display = window.getComputedStyle(gd).display;\n",
       "        if (!display || display === 'none') {{\n",
       "            console.log([gd, 'removed!']);\n",
       "            Plotly.purge(gd);\n",
       "            observer.disconnect();\n",
       "        }}\n",
       "}});\n",
       "\n",
       "// Listen for the removal of the full notebook cells\n",
       "var notebookContainer = gd.closest('#notebook-container');\n",
       "if (notebookContainer) {{\n",
       "    x.observe(notebookContainer, {childList: true});\n",
       "}}\n",
       "\n",
       "// Listen for the clearing of the current output cell\n",
       "var outputEl = gd.closest('.output');\n",
       "if (outputEl) {{\n",
       "    x.observe(outputEl, {childList: true});\n",
       "}}\n",
       "\n",
       "                        })\n",
       "                };\n",
       "                });\n",
       "            </script>\n",
       "        </div>"
      ]
     },
     "metadata": {},
     "output_type": "display_data"
    }
   ],
   "source": [
    "import plotly.graph_objects as go\n",
    "import numpy as np\n",
    "\n",
    "E_inCm = [0, 3.7, 5.1, 2, 4.5, 5.5, 3.9, 5.2, 5.8]\n",
    "E_in_meV = np.array(E_inCm)*10/2.6\n",
    "E_an = [round(x, 5) for x in E_in_meV]\n",
    "\n",
    "MattE = [0.6, 1.35, 2.4, 3.3, 4.3, 5.25, 6.25]\n",
    "MattE = np.array(MattE)*10/3\n",
    "Matt_data = [round(x, 5) for x in MattE]\n",
    "\n",
    "E2 = [0]*9\n",
    "E2[0] = Edelta_order[0][0]\n",
    "E2[1] = Edelta_order[1][0]\n",
    "E2[2] = Edelta_order[2][0]\n",
    "E2[3] = Edelta_order[3][0]\n",
    "E2[4] = Edelta_order[4][0]\n",
    "E2[5] = Edelta_order[5][0]\n",
    "E2[6] = Edelta_order[6][0]\n",
    "E2[7] = Edelta_order[7][0]\n",
    "E2[8] = Edelta_order[8][0]\n",
    "\n",
    "Delta = [0]*9\n",
    "Delta[0] = E2[0] - E_an[0]\n",
    "Delta[1] = E2[1] - E_an[3]\n",
    "Delta[2] = E2[2] - E_an[6]\n",
    "Delta[3] = E2[3] - E_an[1]\n",
    "Delta[4] = E2[4] - E_an[4]\n",
    "Delta[5] = E2[5] - E_an[7]\n",
    "Delta[6] = E2[6] - E_an[2]\n",
    "Delta[7] = E2[7] - E_an[5]\n",
    "Delta[8] = E2[8] - E_an[8]\n",
    "\n",
    "Delta1 = [round(x, 5) for x in Delta]\n",
    "\n",
    "E2 = [round(x, 5) for x in E2]\n",
    "\n",
    "gr = -16.04+16.04\n",
    "ignore1 = 1.53\n",
    "ignore2 = 4.64\n",
    "ex1 = -9.53+16.04\n",
    "ex2 = -7.21+16.04\n",
    "ex3 = -5.4+16.04\n",
    "ex4 = -3.74+16.04\n",
    "ex5 = -1.39+16.04\n",
    "ex6 = 0+16.04\n",
    "\n",
    "\n",
    "data = [gr, ex1, ex2, ex3, ex4, ex5, ex6]\n",
    "data = [round(x, 5) for x in data]\n",
    "\n",
    "fig = go.Figure(data=[go.Table(header=dict(values=['1st quantum number n', '2nd quantum number l', 'Matt Graph Calc EigenEnergy K = 1.24','Our Calc EigenEnergy K = 1.24', 'Delta b/w Matt Graph and Our Calc', 'Matt Graph Experimental Energy','Dr Watkins Experimental for Ga']),\n",
    "                 cells=dict(values=[['0', '', '', '1', '', '', '2', '', '', ],\n",
    "                                    ['0', '1' ,'2' , '0','1' ,'2' , '0','1' ,'2'],\n",
    "                                    [E_an[0], E_an[3], E_an[6], E_an[1], E_an[4], E_an[7], E_an[2], E_an[5], E_an[8]],\n",
    "                                    [E2[0], E2[1], E2[2], E2[3], E2[4], E2[5], E2[6], E2[7], E2[8]],\n",
    "                                    [Delta1[0], Delta1[1], Delta1[2], Delta1[3], Delta1[4], Delta1[5], Delta1[6], Delta1[7], Delta1[8]],\n",
    "                                    [Matt_data[0], Matt_data[1], Matt_data[2], Matt_data[3], Matt_data[4], Matt_data[5], Matt_data[6]],\n",
    "                                    [data[0], data[1], data[2], data[3], data[4], data[5], data[6]]]\n",
    "                                    ))])\n",
    "fig.show()"
   ]
  },
  {
   "cell_type": "code",
   "execution_count": 11,
   "metadata": {},
   "outputs": [
    {
     "ename": "NameError",
     "evalue": "name 'En' is not defined",
     "output_type": "error",
     "traceback": [
      "\u001b[0;31m---------------------------------------------------------------------------\u001b[0m",
      "\u001b[0;31mNameError\u001b[0m                                 Traceback (most recent call last)",
      "\u001b[0;32m<ipython-input-11-a7559ffeb3b5>\u001b[0m in \u001b[0;36m<module>\u001b[0;34m\u001b[0m\n\u001b[1;32m      2\u001b[0m \u001b[0;32mimport\u001b[0m \u001b[0mnumpy\u001b[0m \u001b[0;32mas\u001b[0m \u001b[0mnp\u001b[0m\u001b[0;34m\u001b[0m\u001b[0;34m\u001b[0m\u001b[0m\n\u001b[1;32m      3\u001b[0m \u001b[0;34m\u001b[0m\u001b[0m\n\u001b[0;32m----> 4\u001b[0;31m \u001b[0mEn1\u001b[0m \u001b[0;34m=\u001b[0m \u001b[0;34m[\u001b[0m\u001b[0mx\u001b[0m\u001b[0;34m*\u001b[0m\u001b[0;36m0.111\u001b[0m\u001b[0;34m*\u001b[0m\u001b[0;36m1000\u001b[0m \u001b[0;32mfor\u001b[0m \u001b[0mx\u001b[0m \u001b[0;32min\u001b[0m \u001b[0mEn\u001b[0m\u001b[0;34m]\u001b[0m \u001b[0;31m# in meV now\u001b[0m\u001b[0;34m\u001b[0m\u001b[0;34m\u001b[0m\u001b[0m\n\u001b[0m\u001b[1;32m      5\u001b[0m \u001b[0;34m\u001b[0m\u001b[0m\n\u001b[1;32m      6\u001b[0m fig = go.Figure(data=[go.Table(header=dict(values=['1st quantum number n', '2nd quantum number l', 'EigenEnergy']),\n",
      "\u001b[0;31mNameError\u001b[0m: name 'En' is not defined"
     ]
    }
   ],
   "source": [
    "import plotly.graph_objects as go\n",
    "import numpy as np\n",
    "\n",
    "En1 = [x*0.111*1000 for x in En] # in meV now\n",
    "\n",
    "fig = go.Figure(data=[go.Table(header=dict(values=['1st quantum number n', '2nd quantum number l', 'EigenEnergy']),\n",
    "                 cells=dict(values=[['0', '', '', '1', '', '', '2', '', '', ],\n",
    "                                    ['0', '1' ,'2' , '0','1' ,'2' , '0','1' ,'2'],\n",
    "                                    [En1[0], En1[3], En1[6], En1[1], En1[4], En1[7], En1[2], En1[5], En1[8]]]\n",
    "                                    ))])\n",
    "fig.show()"
   ]
  },
  {
   "cell_type": "code",
   "execution_count": 3,
   "metadata": {},
   "outputs": [
    {
     "data": {
      "image/png": "[encoded data removed]",
      "text/plain": [
       "<Figure size 432x288 with 1 Axes>"
      ]
     },
     "metadata": {
      "needs_background": "light"
     },
     "output_type": "display_data"
    }
   ],
   "source": [
    "a = list(range(15))\n",
    "n = [x+1 for x in a]\n",
    "\n",
    "En2 = [x - En1[0] for x in En1]\n",
    "K = [1.24]*3\n",
    "\n",
    "plt.plot(K, En2[0:3], 'o', label = 'l = 0', color = 'b')\n",
    "plt.plot(K, En2[3:6], 'o', label = 'l = 1', color = 'r')\n",
    "plt.plot(K, En2[6:9], 'o', label = 'l = 2', color = 'g')\n",
    "#plt.plot(n[0:5], [0]*5, label = 'zero')\n",
    "plt.xlabel(\"K\")\n",
    "plt.ylabel('Energy (meV)')\n",
    "plt.title('Schrodinger EQ with Puls Potential for n <= 3')\n",
    "plt.legend()\n",
    "plt.show()"
   ]
  },
  {
   "cell_type": "code",
   "execution_count": 5,
   "metadata": {},
   "outputs": [
    {
     "data": {
      "application/vnd.plotly.v1+json": {
       "config": {
        "plotlyServerURL": "https://plot.ly"
       },
       "data": [
        {
         "cells": {
          "values": [
           [
            "0",
            "",
            "",
            "1",
            "",
            "",
            "2",
            "",
            ""
           ],
           [
            "0",
            "1",
            "2",
            "0",
            "1",
            "2",
            "0",
            "1",
            "2"
           ],
           [
            0,
            10.63977,
            19.54459,
            17.60478,
            21.28467,
            24.69421,
            23.80654,
            25.42666,
            27.07953
           ],
           [
            0,
            7.69231,
            15,
            14.23077,
            17.30769,
            20,
            19.61538,
            21.15385,
            22.30769
           ]
          ]
         },
         "header": {
          "values": [
           "1st quantum number n",
           "2nd quantum number l",
           "Delta EigenEnergy",
           "Matt Graph Delta EigenEnergy"
          ]
         },
         "type": "table"
        }
       ],
       "layout": {
        "template": {
         "data": {
          "bar": [
           {
            "error_x": {
             "color": "#2a3f5f"
            },
            "error_y": {
             "color": "#2a3f5f"
            },
            "marker": {
             "line": {
              "color": "#E5ECF6",
              "width": 0.5
             }
            },
            "type": "bar"
           }
          ],
          "barpolar": [
           {
            "marker": {
             "line": {
              "color": "#E5ECF6",
              "width": 0.5
             }
            },
            "type": "barpolar"
           }
          ],
          "carpet": [
           {
            "aaxis": {
             "endlinecolor": "#2a3f5f",
             "gridcolor": "white",
             "linecolor": "white",
             "minorgridcolor": "white",
             "startlinecolor": "#2a3f5f"
            },
            "baxis": {
             "endlinecolor": "#2a3f5f",
             "gridcolor": "white",
             "linecolor": "white",
             "minorgridcolor": "white",
             "startlinecolor": "#2a3f5f"
            },
            "type": "carpet"
           }
          ],
          "choropleth": [
           {
            "colorbar": {
             "outlinewidth": 0,
             "ticks": ""
            },
            "type": "choropleth"
           }
          ],
          "contour": [
           {
            "colorbar": {
             "outlinewidth": 0,
             "ticks": ""
            },
            "colorscale": [
             [
              0,
              "#0d0887"
             ],
             [
              0.1111111111111111,
              "#46039f"
             ],
             [
              0.2222222222222222,
              "#7201a8"
             ],
             [
              0.3333333333333333,
              "#9c179e"
             ],
             [
              0.4444444444444444,
              "#bd3786"
             ],
             [
              0.5555555555555556,
              "#d8576b"
             ],
             [
              0.6666666666666666,
              "#ed7953"
             ],
             [
              0.7777777777777778,
              "#fb9f3a"
             ],
             [
              0.8888888888888888,
              "#fdca26"
             ],
             [
              1,
              "#f0f921"
             ]
            ],
            "type": "contour"
           }
          ],
          "contourcarpet": [
           {
            "colorbar": {
             "outlinewidth": 0,
             "ticks": ""
            },
            "type": "contourcarpet"
           }
          ],
          "heatmap": [
           {
            "colorbar": {
             "outlinewidth": 0,
             "ticks": ""
            },
            "colorscale": [
             [
              0,
              "#0d0887"
             ],
             [
              0.1111111111111111,
              "#46039f"
             ],
             [
              0.2222222222222222,
              "#7201a8"
             ],
             [
              0.3333333333333333,
              "#9c179e"
             ],
             [
              0.4444444444444444,
              "#bd3786"
             ],
             [
              0.5555555555555556,
              "#d8576b"
             ],
             [
              0.6666666666666666,
              "#ed7953"
             ],
             [
              0.7777777777777778,
              "#fb9f3a"
             ],
             [
              0.8888888888888888,
              "#fdca26"
             ],
             [
              1,
              "#f0f921"
             ]
            ],
            "type": "heatmap"
           }
          ],
          "heatmapgl": [
           {
            "colorbar": {
             "outlinewidth": 0,
             "ticks": ""
            },
            "colorscale": [
             [
              0,
              "#0d0887"
             ],
             [
              0.1111111111111111,
              "#46039f"
             ],
             [
              0.2222222222222222,
              "#7201a8"
             ],
             [
              0.3333333333333333,
              "#9c179e"
             ],
             [
              0.4444444444444444,
              "#bd3786"
             ],
             [
              0.5555555555555556,
              "#d8576b"
             ],
             [
              0.6666666666666666,
              "#ed7953"
             ],
             [
              0.7777777777777778,
              "#fb9f3a"
             ],
             [
              0.8888888888888888,
              "#fdca26"
             ],
             [
              1,
              "#f0f921"
             ]
            ],
            "type": "heatmapgl"
           }
          ],
          "histogram": [
           {
            "marker": {
             "colorbar": {
              "outlinewidth": 0,
              "ticks": ""
             }
            },
            "type": "histogram"
           }
          ],
          "histogram2d": [
           {
            "colorbar": {
             "outlinewidth": 0,
             "ticks": ""
            },
            "colorscale": [
             [
              0,
              "#0d0887"
             ],
             [
              0.1111111111111111,
              "#46039f"
             ],
             [
              0.2222222222222222,
              "#7201a8"
             ],
             [
              0.3333333333333333,
              "#9c179e"
             ],
             [
              0.4444444444444444,
              "#bd3786"
             ],
             [
              0.5555555555555556,
              "#d8576b"
             ],
             [
              0.6666666666666666,
              "#ed7953"
             ],
             [
              0.7777777777777778,
              "#fb9f3a"
             ],
             [
              0.8888888888888888,
              "#fdca26"
             ],
             [
              1,
              "#f0f921"
             ]
            ],
            "type": "histogram2d"
           }
          ],
          "histogram2dcontour": [
           {
            "colorbar": {
             "outlinewidth": 0,
             "ticks": ""
            },
            "colorscale": [
             [
              0,
              "#0d0887"
             ],
             [
              0.1111111111111111,
              "#46039f"
             ],
             [
              0.2222222222222222,
              "#7201a8"
             ],
             [
              0.3333333333333333,
              "#9c179e"
             ],
             [
              0.4444444444444444,
              "#bd3786"
             ],
             [
              0.5555555555555556,
              "#d8576b"
             ],
             [
              0.6666666666666666,
              "#ed7953"
             ],
             [
              0.7777777777777778,
              "#fb9f3a"
             ],
             [
              0.8888888888888888,
              "#fdca26"
             ],
             [
              1,
              "#f0f921"
             ]
            ],
            "type": "histogram2dcontour"
           }
          ],
          "mesh3d": [
           {
            "colorbar": {
             "outlinewidth": 0,
             "ticks": ""
            },
            "type": "mesh3d"
           }
          ],
          "parcoords": [
           {
            "line": {
             "colorbar": {
              "outlinewidth": 0,
              "ticks": ""
             }
            },
            "type": "parcoords"
           }
          ],
          "pie": [
           {
            "automargin": true,
            "type": "pie"
           }
          ],
          "scatter": [
           {
            "marker": {
             "colorbar": {
              "outlinewidth": 0,
              "ticks": ""
             }
            },
            "type": "scatter"
           }
          ],
          "scatter3d": [
           {
            "line": {
             "colorbar": {
              "outlinewidth": 0,
              "ticks": ""
             }
            },
            "marker": {
             "colorbar": {
              "outlinewidth": 0,
              "ticks": ""
             }
            },
            "type": "scatter3d"
           }
          ],
          "scattercarpet": [
           {
            "marker": {
             "colorbar": {
              "outlinewidth": 0,
              "ticks": ""
             }
            },
            "type": "scattercarpet"
           }
          ],
          "scattergeo": [
           {
            "marker": {
             "colorbar": {
              "outlinewidth": 0,
              "ticks": ""
             }
            },
            "type": "scattergeo"
           }
          ],
          "scattergl": [
           {
            "marker": {
             "colorbar": {
              "outlinewidth": 0,
              "ticks": ""
             }
            },
            "type": "scattergl"
           }
          ],
          "scattermapbox": [
           {
            "marker": {
             "colorbar": {
              "outlinewidth": 0,
              "ticks": ""
             }
            },
            "type": "scattermapbox"
           }
          ],
          "scatterpolar": [
           {
            "marker": {
             "colorbar": {
              "outlinewidth": 0,
              "ticks": ""
             }
            },
            "type": "scatterpolar"
           }
          ],
          "scatterpolargl": [
           {
            "marker": {
             "colorbar": {
              "outlinewidth": 0,
              "ticks": ""
             }
            },
            "type": "scatterpolargl"
           }
          ],
          "scatterternary": [
           {
            "marker": {
             "colorbar": {
              "outlinewidth": 0,
              "ticks": ""
             }
            },
            "type": "scatterternary"
           }
          ],
          "surface": [
           {
            "colorbar": {
             "outlinewidth": 0,
             "ticks": ""
            },
            "colorscale": [
             [
              0,
              "#0d0887"
             ],
             [
              0.1111111111111111,
              "#46039f"
             ],
             [
              0.2222222222222222,
              "#7201a8"
             ],
             [
              0.3333333333333333,
              "#9c179e"
             ],
             [
              0.4444444444444444,
              "#bd3786"
             ],
             [
              0.5555555555555556,
              "#d8576b"
             ],
             [
              0.6666666666666666,
              "#ed7953"
             ],
             [
              0.7777777777777778,
              "#fb9f3a"
             ],
             [
              0.8888888888888888,
              "#fdca26"
             ],
             [
              1,
              "#f0f921"
             ]
            ],
            "type": "surface"
           }
          ],
          "table": [
           {
            "cells": {
             "fill": {
              "color": "#EBF0F8"
             },
             "line": {
              "color": "white"
             }
            },
            "header": {
             "fill": {
              "color": "#C8D4E3"
             },
             "line": {
              "color": "white"
             }
            },
            "type": "table"
           }
          ]
         },
         "layout": {
          "annotationdefaults": {
           "arrowcolor": "#2a3f5f",
           "arrowhead": 0,
           "arrowwidth": 1
          },
          "coloraxis": {
           "colorbar": {
            "outlinewidth": 0,
            "ticks": ""
           }
          },
          "colorscale": {
           "diverging": [
            [
             0,
             "#8e0152"
            ],
            [
             0.1,
             "#c51b7d"
            ],
            [
             0.2,
             "#de77ae"
            ],
            [
             0.3,
             "#f1b6da"
            ],
            [
             0.4,
             "#fde0ef"
            ],
            [
             0.5,
             "#f7f7f7"
            ],
            [
             0.6,
             "#e6f5d0"
            ],
            [
             0.7,
             "#b8e186"
            ],
            [
             0.8,
             "#7fbc41"
            ],
            [
             0.9,
             "#4d9221"
            ],
            [
             1,
             "#276419"
            ]
           ],
           "sequential": [
            [
             0,
             "#0d0887"
            ],
            [
             0.1111111111111111,
             "#46039f"
            ],
            [
             0.2222222222222222,
             "#7201a8"
            ],
            [
             0.3333333333333333,
             "#9c179e"
            ],
            [
             0.4444444444444444,
             "#bd3786"
            ],
            [
             0.5555555555555556,
             "#d8576b"
            ],
            [
             0.6666666666666666,
             "#ed7953"
            ],
            [
             0.7777777777777778,
             "#fb9f3a"
            ],
            [
             0.8888888888888888,
             "#fdca26"
            ],
            [
             1,
             "#f0f921"
            ]
           ],
           "sequentialminus": [
            [
             0,
             "#0d0887"
            ],
            [
             0.1111111111111111,
             "#46039f"
            ],
            [
             0.2222222222222222,
             "#7201a8"
            ],
            [
             0.3333333333333333,
             "#9c179e"
            ],
            [
             0.4444444444444444,
             "#bd3786"
            ],
            [
             0.5555555555555556,
             "#d8576b"
            ],
            [
             0.6666666666666666,
             "#ed7953"
            ],
            [
             0.7777777777777778,
             "#fb9f3a"
            ],
            [
             0.8888888888888888,
             "#fdca26"
            ],
            [
             1,
             "#f0f921"
            ]
           ]
          },
          "colorway": [
           "#636efa",
           "#EF553B",
           "#00cc96",
           "#ab63fa",
           "#FFA15A",
           "#19d3f3",
           "#FF6692",
           "#B6E880",
           "#FF97FF",
           "#FECB52"
          ],
          "font": {
           "color": "#2a3f5f"
          },
          "geo": {
           "bgcolor": "white",
           "lakecolor": "white",
           "landcolor": "#E5ECF6",
           "showlakes": true,
           "showland": true,
           "subunitcolor": "white"
          },
          "hoverlabel": {
           "align": "left"
          },
          "hovermode": "closest",
          "mapbox": {
           "style": "light"
          },
          "paper_bgcolor": "white",
          "plot_bgcolor": "#E5ECF6",
          "polar": {
           "angularaxis": {
            "gridcolor": "white",
            "linecolor": "white",
            "ticks": ""
           },
           "bgcolor": "#E5ECF6",
           "radialaxis": {
            "gridcolor": "white",
            "linecolor": "white",
            "ticks": ""
           }
          },
          "scene": {
           "xaxis": {
            "backgroundcolor": "#E5ECF6",
            "gridcolor": "white",
            "gridwidth": 2,
            "linecolor": "white",
            "showbackground": true,
            "ticks": "",
            "zerolinecolor": "white"
           },
           "yaxis": {
            "backgroundcolor": "#E5ECF6",
            "gridcolor": "white",
            "gridwidth": 2,
            "linecolor": "white",
            "showbackground": true,
            "ticks": "",
            "zerolinecolor": "white"
           },
           "zaxis": {
            "backgroundcolor": "#E5ECF6",
            "gridcolor": "white",
            "gridwidth": 2,
            "linecolor": "white",
            "showbackground": true,
            "ticks": "",
            "zerolinecolor": "white"
           }
          },
          "shapedefaults": {
           "line": {
            "color": "#2a3f5f"
           }
          },
          "ternary": {
           "aaxis": {
            "gridcolor": "white",
            "linecolor": "white",
            "ticks": ""
           },
           "baxis": {
            "gridcolor": "white",
            "linecolor": "white",
            "ticks": ""
           },
           "bgcolor": "#E5ECF6",
           "caxis": {
            "gridcolor": "white",
            "linecolor": "white",
            "ticks": ""
           }
          },
          "title": {
           "x": 0.05
          },
          "xaxis": {
           "automargin": true,
           "gridcolor": "white",
           "linecolor": "white",
           "ticks": "",
           "title": {
            "standoff": 15
           },
           "zerolinecolor": "white",
           "zerolinewidth": 2
          },
          "yaxis": {
           "automargin": true,
           "gridcolor": "white",
           "linecolor": "white",
           "ticks": "",
           "title": {
            "standoff": 15
           },
           "zerolinecolor": "white",
           "zerolinewidth": 2
          }
         }
        }
       }
      },
      "text/html": [
       "<div>\n",
       "        \n",
       "        \n",
       "            <div id=\"fb09adfa-e08b-425c-83f5-29ea2bb93c38\" class=\"plotly-graph-div\" style=\"height:525px; width:100%;\"></div>\n",
       "            <script type=\"text/javascript\">\n",
       "                require([\"plotly\"], function(Plotly) {\n",
       "                    window.PLOTLYENV=window.PLOTLYENV || {};\n",
       "                    \n",
       "                if (document.getElementById(\"fb09adfa-e08b-425c-83f5-29ea2bb93c38\")) {\n",
       "                    Plotly.newPlot(\n",
       "                        'fb09adfa-e08b-425c-83f5-29ea2bb93c38',\n",
       "                        [{\"cells\": {\"values\": [[\"0\", \"\", \"\", \"1\", \"\", \"\", \"2\", \"\", \"\"], [\"0\", \"1\", \"2\", \"0\", \"1\", \"2\", \"0\", \"1\", \"2\"], [0.0, 10.63977, 19.54459, 17.60478, 21.28467, 24.69421, 23.80654, 25.42666, 27.07953], [0.0, 7.69231, 15.0, 14.23077, 17.30769, 20.0, 19.61538, 21.15385, 22.30769]]}, \"header\": {\"values\": [\"1st quantum number n\", \"2nd quantum number l\", \"Delta EigenEnergy\", \"Matt Graph Delta EigenEnergy\"]}, \"type\": \"table\"}],\n",
       "                        {\"template\": {\"data\": {\"bar\": [{\"error_x\": {\"color\": \"#2a3f5f\"}, \"error_y\": {\"color\": \"#2a3f5f\"}, \"marker\": {\"line\": {\"color\": \"#E5ECF6\", \"width\": 0.5}}, \"type\": \"bar\"}], \"barpolar\": [{\"marker\": {\"line\": {\"color\": \"#E5ECF6\", \"width\": 0.5}}, \"type\": \"barpolar\"}], \"carpet\": [{\"aaxis\": {\"endlinecolor\": \"#2a3f5f\", \"gridcolor\": \"white\", \"linecolor\": \"white\", \"minorgridcolor\": \"white\", \"startlinecolor\": \"#2a3f5f\"}, \"baxis\": {\"endlinecolor\": \"#2a3f5f\", \"gridcolor\": \"white\", \"linecolor\": \"white\", \"minorgridcolor\": \"white\", \"startlinecolor\": \"#2a3f5f\"}, \"type\": \"carpet\"}], \"choropleth\": [{\"colorbar\": {\"outlinewidth\": 0, \"ticks\": \"\"}, \"type\": \"choropleth\"}], \"contour\": [{\"colorbar\": {\"outlinewidth\": 0, \"ticks\": \"\"}, \"colorscale\": [[0.0, \"#0d0887\"], [0.1111111111111111, \"#46039f\"], [0.2222222222222222, \"#7201a8\"], [0.3333333333333333, \"#9c179e\"], [0.4444444444444444, \"#bd3786\"], [0.5555555555555556, \"#d8576b\"], [0.6666666666666666, \"#ed7953\"], [0.7777777777777778, \"#fb9f3a\"], [0.8888888888888888, \"#fdca26\"], [1.0, \"#f0f921\"]], \"type\": \"contour\"}], \"contourcarpet\": [{\"colorbar\": {\"outlinewidth\": 0, \"ticks\": \"\"}, \"type\": \"contourcarpet\"}], \"heatmap\": [{\"colorbar\": {\"outlinewidth\": 0, \"ticks\": \"\"}, \"colorscale\": [[0.0, \"#0d0887\"], [0.1111111111111111, \"#46039f\"], [0.2222222222222222, \"#7201a8\"], [0.3333333333333333, \"#9c179e\"], [0.4444444444444444, \"#bd3786\"], [0.5555555555555556, \"#d8576b\"], [0.6666666666666666, \"#ed7953\"], [0.7777777777777778, \"#fb9f3a\"], [0.8888888888888888, \"#fdca26\"], [1.0, \"#f0f921\"]], \"type\": \"heatmap\"}], \"heatmapgl\": [{\"colorbar\": {\"outlinewidth\": 0, \"ticks\": \"\"}, \"colorscale\": [[0.0, \"#0d0887\"], [0.1111111111111111, \"#46039f\"], [0.2222222222222222, \"#7201a8\"], [0.3333333333333333, \"#9c179e\"], [0.4444444444444444, \"#bd3786\"], [0.5555555555555556, \"#d8576b\"], [0.6666666666666666, \"#ed7953\"], [0.7777777777777778, \"#fb9f3a\"], [0.8888888888888888, \"#fdca26\"], [1.0, \"#f0f921\"]], \"type\": \"heatmapgl\"}], \"histogram\": [{\"marker\": {\"colorbar\": {\"outlinewidth\": 0, \"ticks\": \"\"}}, \"type\": \"histogram\"}], \"histogram2d\": [{\"colorbar\": {\"outlinewidth\": 0, \"ticks\": \"\"}, \"colorscale\": [[0.0, \"#0d0887\"], [0.1111111111111111, \"#46039f\"], [0.2222222222222222, \"#7201a8\"], [0.3333333333333333, \"#9c179e\"], [0.4444444444444444, \"#bd3786\"], [0.5555555555555556, \"#d8576b\"], [0.6666666666666666, \"#ed7953\"], [0.7777777777777778, \"#fb9f3a\"], [0.8888888888888888, \"#fdca26\"], [1.0, \"#f0f921\"]], \"type\": \"histogram2d\"}], \"histogram2dcontour\": [{\"colorbar\": {\"outlinewidth\": 0, \"ticks\": \"\"}, \"colorscale\": [[0.0, \"#0d0887\"], [0.1111111111111111, \"#46039f\"], [0.2222222222222222, \"#7201a8\"], [0.3333333333333333, \"#9c179e\"], [0.4444444444444444, \"#bd3786\"], [0.5555555555555556, \"#d8576b\"], [0.6666666666666666, \"#ed7953\"], [0.7777777777777778, \"#fb9f3a\"], [0.8888888888888888, \"#fdca26\"], [1.0, \"#f0f921\"]], \"type\": \"histogram2dcontour\"}], \"mesh3d\": [{\"colorbar\": {\"outlinewidth\": 0, \"ticks\": \"\"}, \"type\": \"mesh3d\"}], \"parcoords\": [{\"line\": {\"colorbar\": {\"outlinewidth\": 0, \"ticks\": \"\"}}, \"type\": \"parcoords\"}], \"pie\": [{\"automargin\": true, \"type\": \"pie\"}], \"scatter\": [{\"marker\": {\"colorbar\": {\"outlinewidth\": 0, \"ticks\": \"\"}}, \"type\": \"scatter\"}], \"scatter3d\": [{\"line\": {\"colorbar\": {\"outlinewidth\": 0, \"ticks\": \"\"}}, \"marker\": {\"colorbar\": {\"outlinewidth\": 0, \"ticks\": \"\"}}, \"type\": \"scatter3d\"}], \"scattercarpet\": [{\"marker\": {\"colorbar\": {\"outlinewidth\": 0, \"ticks\": \"\"}}, \"type\": \"scattercarpet\"}], \"scattergeo\": [{\"marker\": {\"colorbar\": {\"outlinewidth\": 0, \"ticks\": \"\"}}, \"type\": \"scattergeo\"}], \"scattergl\": [{\"marker\": {\"colorbar\": {\"outlinewidth\": 0, \"ticks\": \"\"}}, \"type\": \"scattergl\"}], \"scattermapbox\": [{\"marker\": {\"colorbar\": {\"outlinewidth\": 0, \"ticks\": \"\"}}, \"type\": \"scattermapbox\"}], \"scatterpolar\": [{\"marker\": {\"colorbar\": {\"outlinewidth\": 0, \"ticks\": \"\"}}, \"type\": \"scatterpolar\"}], \"scatterpolargl\": [{\"marker\": {\"colorbar\": {\"outlinewidth\": 0, \"ticks\": \"\"}}, \"type\": \"scatterpolargl\"}], \"scatterternary\": [{\"marker\": {\"colorbar\": {\"outlinewidth\": 0, \"ticks\": \"\"}}, \"type\": \"scatterternary\"}], \"surface\": [{\"colorbar\": {\"outlinewidth\": 0, \"ticks\": \"\"}, \"colorscale\": [[0.0, \"#0d0887\"], [0.1111111111111111, \"#46039f\"], [0.2222222222222222, \"#7201a8\"], [0.3333333333333333, \"#9c179e\"], [0.4444444444444444, \"#bd3786\"], [0.5555555555555556, \"#d8576b\"], [0.6666666666666666, \"#ed7953\"], [0.7777777777777778, \"#fb9f3a\"], [0.8888888888888888, \"#fdca26\"], [1.0, \"#f0f921\"]], \"type\": \"surface\"}], \"table\": [{\"cells\": {\"fill\": {\"color\": \"#EBF0F8\"}, \"line\": {\"color\": \"white\"}}, \"header\": {\"fill\": {\"color\": \"#C8D4E3\"}, \"line\": {\"color\": \"white\"}}, \"type\": \"table\"}]}, \"layout\": {\"annotationdefaults\": {\"arrowcolor\": \"#2a3f5f\", \"arrowhead\": 0, \"arrowwidth\": 1}, \"coloraxis\": {\"colorbar\": {\"outlinewidth\": 0, \"ticks\": \"\"}}, \"colorscale\": {\"diverging\": [[0, \"#8e0152\"], [0.1, \"#c51b7d\"], [0.2, \"#de77ae\"], [0.3, \"#f1b6da\"], [0.4, \"#fde0ef\"], [0.5, \"#f7f7f7\"], [0.6, \"#e6f5d0\"], [0.7, \"#b8e186\"], [0.8, \"#7fbc41\"], [0.9, \"#4d9221\"], [1, \"#276419\"]], \"sequential\": [[0.0, \"#0d0887\"], [0.1111111111111111, \"#46039f\"], [0.2222222222222222, \"#7201a8\"], [0.3333333333333333, \"#9c179e\"], [0.4444444444444444, \"#bd3786\"], [0.5555555555555556, \"#d8576b\"], [0.6666666666666666, \"#ed7953\"], [0.7777777777777778, \"#fb9f3a\"], [0.8888888888888888, \"#fdca26\"], [1.0, \"#f0f921\"]], \"sequentialminus\": [[0.0, \"#0d0887\"], [0.1111111111111111, \"#46039f\"], [0.2222222222222222, \"#7201a8\"], [0.3333333333333333, \"#9c179e\"], [0.4444444444444444, \"#bd3786\"], [0.5555555555555556, \"#d8576b\"], [0.6666666666666666, \"#ed7953\"], [0.7777777777777778, \"#fb9f3a\"], [0.8888888888888888, \"#fdca26\"], [1.0, \"#f0f921\"]]}, \"colorway\": [\"#636efa\", \"#EF553B\", \"#00cc96\", \"#ab63fa\", \"#FFA15A\", \"#19d3f3\", \"#FF6692\", \"#B6E880\", \"#FF97FF\", \"#FECB52\"], \"font\": {\"color\": \"#2a3f5f\"}, \"geo\": {\"bgcolor\": \"white\", \"lakecolor\": \"white\", \"landcolor\": \"#E5ECF6\", \"showlakes\": true, \"showland\": true, \"subunitcolor\": \"white\"}, \"hoverlabel\": {\"align\": \"left\"}, \"hovermode\": \"closest\", \"mapbox\": {\"style\": \"light\"}, \"paper_bgcolor\": \"white\", \"plot_bgcolor\": \"#E5ECF6\", \"polar\": {\"angularaxis\": {\"gridcolor\": \"white\", \"linecolor\": \"white\", \"ticks\": \"\"}, \"bgcolor\": \"#E5ECF6\", \"radialaxis\": {\"gridcolor\": \"white\", \"linecolor\": \"white\", \"ticks\": \"\"}}, \"scene\": {\"xaxis\": {\"backgroundcolor\": \"#E5ECF6\", \"gridcolor\": \"white\", \"gridwidth\": 2, \"linecolor\": \"white\", \"showbackground\": true, \"ticks\": \"\", \"zerolinecolor\": \"white\"}, \"yaxis\": {\"backgroundcolor\": \"#E5ECF6\", \"gridcolor\": \"white\", \"gridwidth\": 2, \"linecolor\": \"white\", \"showbackground\": true, \"ticks\": \"\", \"zerolinecolor\": \"white\"}, \"zaxis\": {\"backgroundcolor\": \"#E5ECF6\", \"gridcolor\": \"white\", \"gridwidth\": 2, \"linecolor\": \"white\", \"showbackground\": true, \"ticks\": \"\", \"zerolinecolor\": \"white\"}}, \"shapedefaults\": {\"line\": {\"color\": \"#2a3f5f\"}}, \"ternary\": {\"aaxis\": {\"gridcolor\": \"white\", \"linecolor\": \"white\", \"ticks\": \"\"}, \"baxis\": {\"gridcolor\": \"white\", \"linecolor\": \"white\", \"ticks\": \"\"}, \"bgcolor\": \"#E5ECF6\", \"caxis\": {\"gridcolor\": \"white\", \"linecolor\": \"white\", \"ticks\": \"\"}}, \"title\": {\"x\": 0.05}, \"xaxis\": {\"automargin\": true, \"gridcolor\": \"white\", \"linecolor\": \"white\", \"ticks\": \"\", \"title\": {\"standoff\": 15}, \"zerolinecolor\": \"white\", \"zerolinewidth\": 2}, \"yaxis\": {\"automargin\": true, \"gridcolor\": \"white\", \"linecolor\": \"white\", \"ticks\": \"\", \"title\": {\"standoff\": 15}, \"zerolinecolor\": \"white\", \"zerolinewidth\": 2}}}},\n",
       "                        {\"responsive\": true}\n",
       "                    ).then(function(){\n",
       "                            \n",
       "var gd = document.getElementById('fb09adfa-e08b-425c-83f5-29ea2bb93c38');\n",
       "var x = new MutationObserver(function (mutations, observer) {{\n",
       "        var display = window.getComputedStyle(gd).display;\n",
       "        if (!display || display === 'none') {{\n",
       "            console.log([gd, 'removed!']);\n",
       "            Plotly.purge(gd);\n",
       "            observer.disconnect();\n",
       "        }}\n",
       "}});\n",
       "\n",
       "// Listen for the removal of the full notebook cells\n",
       "var notebookContainer = gd.closest('#notebook-container');\n",
       "if (notebookContainer) {{\n",
       "    x.observe(notebookContainer, {childList: true});\n",
       "}}\n",
       "\n",
       "// Listen for the clearing of the current output cell\n",
       "var outputEl = gd.closest('.output');\n",
       "if (outputEl) {{\n",
       "    x.observe(outputEl, {childList: true});\n",
       "}}\n",
       "\n",
       "                        })\n",
       "                };\n",
       "                });\n",
       "            </script>\n",
       "        </div>"
      ]
     },
     "metadata": {},
     "output_type": "display_data"
    }
   ],
   "source": [
    "import plotly.graph_objects as go\n",
    "import numpy as np\n",
    "\n",
    "En2 = [round(x, 5) for x in En2]\n",
    "\n",
    "E_inCm = [0, 3.7, 5.1, 2, 4.5, 5.5, 3.9, 5.2, 5.8]\n",
    "E_in_meV = np.array(E_inCm)*10/2.6\n",
    "E_an = [round(x, 5) for x in E_in_meV]\n",
    "\n",
    "fig = go.Figure(data=[go.Table(header=dict(values=['1st quantum number n', '2nd quantum number l', 'Delta EigenEnergy', 'Matt Graph Delta EigenEnergy']),\n",
    "                 cells=dict(values=[['0', '', '', '1', '', '', '2', '', '', ],\n",
    "                                    ['0', '1' ,'2' , '0','1' ,'2' , '0','1' ,'2'],\n",
    "                                    [En2[0], En2[3], En2[6], En2[1], En2[4], En2[7], En2[2], En2[5], En2[8]], \n",
    "                                    [E_an[0], E_an[3], E_an[6], E_an[1], E_an[4], E_an[7], E_an[2], E_an[5], E_an[8]]]\n",
    "                                    ))])\n",
    "fig.show()"
   ]
  },
  {
   "cell_type": "code",
   "execution_count": 108,
   "metadata": {},
   "outputs": [
    {
     "data": {
      "image/png": "[encoded data removed]",
      "text/plain": [
       "<Figure size 432x288 with 1 Axes>"
      ]
     },
     "metadata": {
      "needs_background": "light"
     },
     "output_type": "display_data"
    }
   ],
   "source": [
    "fMax_index = [0]*15\n",
    "for i in range(15):\n",
    "    fMax = max(f_nl[i][:])\n",
    "    fMax_index[i] = f_nl[i][:].index(fMax)\n",
    "fMax_index = [x/2000*100 for x in fMax_index]  \n",
    "\n",
    "plt.plot(fMax_index[0:5], n[0:5], 'o', label = 'l = 0', color = 'b')\n",
    "plt.plot(fMax_index[5:10], n[0:5], 'o', label = 'l = 1', color = 'r')\n",
    "plt.plot(fMax_index[10:15], n[0:5], 'o', label = 'l = 2', color = 'g')\n",
    "plt.ylabel(\"principle quantum number n\")\n",
    "plt.xlabel('Peak position of $\\\\rho\\psi$ (r_b)')\n",
    "plt.title('Peak position of $\\\\rho\\psi$')\n",
    "plt.xticks(np.arange(0, 100, 5))\n",
    "plt.yticks(np.arange(0, 5.5, 1))\n",
    "plt.legend()\n",
    "plt.show()"
   ]
  },
  {
   "cell_type": "code",
   "execution_count": 109,
   "metadata": {},
   "outputs": [
    {
     "name": "stdout",
     "output_type": "stream",
     "text": [
      "****** The minimum of the Puls Potential is (in r_b)  1.35\n"
     ]
    },
    {
     "name": "stderr",
     "output_type": "stream",
     "text": [
      "/opt/conda/lib/python3.7/site-packages/ipykernel_launcher.py:18: RuntimeWarning:\n",
      "\n",
      "divide by zero encountered in true_divide\n",
      "\n",
      "/opt/conda/lib/python3.7/site-packages/ipykernel_launcher.py:18: RuntimeWarning:\n",
      "\n",
      "divide by zero encountered in true_divide\n",
      "\n"
     ]
    },
    {
     "data": {
      "image/png": "[encoded data removed]",
      "text/plain": [
       "<Figure size 432x288 with 1 Axes>"
      ]
     },
     "metadata": {
      "needs_background": "light"
     },
     "output_type": "display_data"
    }
   ],
   "source": [
    "plt.plot(rho, PulsV(rho))\n",
    "plt.xlim(-1, 20)\n",
    "plt.ylabel(\"Puls Potential (Rydberg)\")\n",
    "plt.xlabel('Distance (r_b)')\n",
    "Puls_list = PulsV(rho).tolist()\n",
    "Puls_min = min(Puls_list[1::])\n",
    "print('****** The minimum of the Puls Potential is (in r_b) ', Puls_list.index(Puls_min)/2000*100)"
   ]
  },
  {
   "cell_type": "code",
   "execution_count": 154,
   "metadata": {},
   "outputs": [
    {
     "name": "stdout",
     "output_type": "stream",
     "text": [
      "           0\n",
      "0  -0.460993\n",
      "1  -0.165648\n",
      "2  -0.083839\n",
      "3  -0.050439\n",
      "4  -0.033636\n",
      "5  -0.230614\n",
      "6  -0.104768\n",
      "7  -0.059718\n",
      "8  -0.038544\n",
      "9  -0.026869\n",
      "10 -0.110765\n",
      "11 -0.062293\n",
      "12 -0.039875\n",
      "13 -0.027673\n",
      "14 -0.019436\n",
      "0\n",
      "-0.46099311852456204\n",
      "-0.1656481630077466\n",
      "-0.08383909765292245\n",
      "-0.0504393505067928\n",
      "-0.0336362456760509\n",
      "-0.23061423816905469\n",
      "-0.10476764646283081\n",
      "-0.05971764525525558\n",
      "-0.03854354452019469\n",
      "-0.026868644959027913\n",
      "-0.11076489021249594\n",
      "-0.06229301510898179\n",
      "-0.039875499037330626\n",
      "-0.02767335731978158\n",
      "-0.01943566389942875\n",
      "\n"
     ]
    }
   ],
   "source": [
    "import pandas as pd\n",
    "\n",
    "name_dict = En\n",
    "\n",
    "df = pd.DataFrame(name_dict)\n",
    "df.style.hide_index()\n",
    "print(df)\n",
    "df.to_csv('PulsPotential2', index = False)\n",
    "print(df.to_csv(sep='\\t', index=False))"
   ]
  },
  {
   "cell_type": "code",
   "execution_count": null,
   "metadata": {},
   "outputs": [],
   "source": []
  }
 ],
 "metadata": {
  "kernelspec": {
   "display_name": "Python 3",
   "language": "python",
   "name": "python3"
  },
  "language_info": {
   "codemirror_mode": {
    "name": "ipython",
    "version": 3
   },
   "file_extension": ".py",
   "mimetype": "text/x-python",
   "name": "python",
   "nbconvert_exporter": "python",
   "pygments_lexer": "ipython3",
   "version": "3.7.6"
  }
 },
 "nbformat": 4,
 "nbformat_minor": 4
}
